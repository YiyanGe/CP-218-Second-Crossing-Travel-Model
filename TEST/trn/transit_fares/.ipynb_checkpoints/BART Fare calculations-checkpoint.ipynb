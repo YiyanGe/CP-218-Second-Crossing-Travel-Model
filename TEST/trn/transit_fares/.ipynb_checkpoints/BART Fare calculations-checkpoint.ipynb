{
 "cells": [
  {
   "cell_type": "code",
   "execution_count": 1,
   "metadata": {
    "collapsed": true
   },
   "outputs": [],
   "source": [
    "import pandas as pd"
   ]
  },
  {
   "cell_type": "code",
   "execution_count": 2,
   "metadata": {
    "collapsed": true
   },
   "outputs": [],
   "source": [
    "# Read BART.far data into DataFrame\n",
    "df = pd.read_table('BART.far', header=None, names=['node_from', 'node_to', \n",
    "                                                  'fare', ';', 'name_from', 'name_to'])\n",
    "df = df.drop(';', axis=1)\n",
    "df.name_from = df.name_from.str.replace(\" to\", \"\")"
   ]
  },
  {
   "cell_type": "code",
   "execution_count": 3,
   "metadata": {
    "collapsed": false
   },
   "outputs": [
    {
     "data": {
      "text/html": [
       "<div>\n",
       "<table border=\"1\" class=\"dataframe\">\n",
       "  <thead>\n",
       "    <tr style=\"text-align: right;\">\n",
       "      <th></th>\n",
       "      <th>node_from</th>\n",
       "      <th>node_to</th>\n",
       "      <th>fare</th>\n",
       "      <th>name_from</th>\n",
       "      <th>name_to</th>\n",
       "    </tr>\n",
       "  </thead>\n",
       "  <tbody>\n",
       "    <tr>\n",
       "      <th>0</th>\n",
       "      <td>15538</td>\n",
       "      <td>15545</td>\n",
       "      <td>129</td>\n",
       "      <td>Dublin/ Pleasanton</td>\n",
       "      <td>West Dublin/Pleasanton</td>\n",
       "    </tr>\n",
       "    <tr>\n",
       "      <th>1</th>\n",
       "      <td>15538</td>\n",
       "      <td>15537</td>\n",
       "      <td>129</td>\n",
       "      <td>Dublin/ Pleasanton</td>\n",
       "      <td>Castro Valley</td>\n",
       "    </tr>\n",
       "    <tr>\n",
       "      <th>2</th>\n",
       "      <td>15538</td>\n",
       "      <td>15526</td>\n",
       "      <td>325</td>\n",
       "      <td>Dublin/ Pleasanton</td>\n",
       "      <td>Fremont</td>\n",
       "    </tr>\n",
       "    <tr>\n",
       "      <th>3</th>\n",
       "      <td>15538</td>\n",
       "      <td>15527</td>\n",
       "      <td>304</td>\n",
       "      <td>Dublin/ Pleasanton</td>\n",
       "      <td>Union City</td>\n",
       "    </tr>\n",
       "    <tr>\n",
       "      <th>4</th>\n",
       "      <td>15538</td>\n",
       "      <td>15528</td>\n",
       "      <td>269</td>\n",
       "      <td>Dublin/ Pleasanton</td>\n",
       "      <td>South Hayward</td>\n",
       "    </tr>\n",
       "  </tbody>\n",
       "</table>\n",
       "</div>"
      ],
      "text/plain": [
       "   node_from  node_to  fare           name_from                 name_to\n",
       "0      15538    15545   129  Dublin/ Pleasanton  West Dublin/Pleasanton\n",
       "1      15538    15537   129  Dublin/ Pleasanton           Castro Valley\n",
       "2      15538    15526   325  Dublin/ Pleasanton                 Fremont\n",
       "3      15538    15527   304  Dublin/ Pleasanton              Union City\n",
       "4      15538    15528   269  Dublin/ Pleasanton           South Hayward"
      ]
     },
     "execution_count": 3,
     "metadata": {},
     "output_type": "execute_result"
    }
   ],
   "source": [
    "df.head()"
   ]
  },
  {
   "cell_type": "code",
   "execution_count": 94,
   "metadata": {
    "collapsed": true
   },
   "outputs": [],
   "source": [
    "# Make DataFrame of new nodes with additive fares to each proxy station. \n",
    "# We will take fares from each proxy station to each other station in the BART network,\n",
    "# Add the fare from the new station of interest (e.g. fare from Ballpark to Fruitvale)\n",
    "# And find the minimum fare to each other station in the network\n",
    "\n",
    "# Set additive fares below:\n",
    "\n",
    "new_nodes = {\n",
    "    'name':['Ballpark', '2nd/Mission', 'Union Square', 'Van Ness', 'Fillmore', 'Jack London Square'],\n",
    "    'Fruitvale':[217, 217, 217, 217, 217, 0],\n",
    "    'Montgomery': [0, 0, 0, 0, 0, 217],\n",
    "    '12th St Oakland City Center': [217, 217, 217, 217, 217, 0]\n",
    "}\n",
    "\n",
    "testnodes = pd.DataFrame(new_nodes)\n",
    "testnodes.set_index('name', inplace=True)"
   ]
  },
  {
   "cell_type": "code",
   "execution_count": 101,
   "metadata": {
    "collapsed": false
   },
   "outputs": [
    {
     "data": {
      "text/html": [
       "<div>\n",
       "<table border=\"1\" class=\"dataframe\">\n",
       "  <thead>\n",
       "    <tr style=\"text-align: right;\">\n",
       "      <th></th>\n",
       "      <th>12th St Oakland City Center</th>\n",
       "      <th>Fruitvale</th>\n",
       "      <th>Montgomery</th>\n",
       "    </tr>\n",
       "    <tr>\n",
       "      <th>name</th>\n",
       "      <th></th>\n",
       "      <th></th>\n",
       "      <th></th>\n",
       "    </tr>\n",
       "  </thead>\n",
       "  <tbody>\n",
       "    <tr>\n",
       "      <th>Ballpark</th>\n",
       "      <td>217</td>\n",
       "      <td>217</td>\n",
       "      <td>0</td>\n",
       "    </tr>\n",
       "    <tr>\n",
       "      <th>2nd/Mission</th>\n",
       "      <td>217</td>\n",
       "      <td>217</td>\n",
       "      <td>0</td>\n",
       "    </tr>\n",
       "    <tr>\n",
       "      <th>Union Square</th>\n",
       "      <td>217</td>\n",
       "      <td>217</td>\n",
       "      <td>0</td>\n",
       "    </tr>\n",
       "    <tr>\n",
       "      <th>Van Ness</th>\n",
       "      <td>217</td>\n",
       "      <td>217</td>\n",
       "      <td>0</td>\n",
       "    </tr>\n",
       "    <tr>\n",
       "      <th>Fillmore</th>\n",
       "      <td>217</td>\n",
       "      <td>217</td>\n",
       "      <td>0</td>\n",
       "    </tr>\n",
       "    <tr>\n",
       "      <th>Jack London Square</th>\n",
       "      <td>0</td>\n",
       "      <td>0</td>\n",
       "      <td>217</td>\n",
       "    </tr>\n",
       "  </tbody>\n",
       "</table>\n",
       "</div>"
      ],
      "text/plain": [
       "                    12th St Oakland City Center  Fruitvale  Montgomery\n",
       "name                                                                  \n",
       "Ballpark                                    217        217           0\n",
       "2nd/Mission                                 217        217           0\n",
       "Union Square                                217        217           0\n",
       "Van Ness                                    217        217           0\n",
       "Fillmore                                    217        217           0\n",
       "Jack London Square                            0          0         217"
      ]
     },
     "execution_count": 101,
     "metadata": {},
     "output_type": "execute_result"
    }
   ],
   "source": [
    "testnodes"
   ]
  },
  {
   "cell_type": "code",
   "execution_count": 128,
   "metadata": {
    "collapsed": false
   },
   "outputs": [],
   "source": [
    "def get_fares_from(df, name, add_fare):\n",
    "    \"\"\"\n",
    "    This function gets all the fares from one station to every other in the original fare table.\n",
    "    \n",
    "    df : pandas DataFrame\n",
    "        The original fare table\n",
    "    name : str\n",
    "        The name of the station that you want to get fares from\n",
    "    add_fare : int\n",
    "        Additional fare to add to each value in the existing fare table\n",
    "        \n",
    "    Returns a pandas Series of stations and fares\n",
    "    \"\"\"\n",
    "    station = df.loc[(df.name_from == name) | (df.name_to == name)]\n",
    "    station['destination'] = ''\n",
    "    station.loc[station.name_from != name, 'destination'] = station.loc[station.name_from != name, 'name_from']\n",
    "    station.loc[station.name_to != name, 'destination'] = station.loc[station.name_to != name, 'name_to']\n",
    "    station.set_index('destination', inplace=True)\n",
    "    \n",
    "    series = pd.Series(data=(station.fare + add_fare), name=name)\n",
    "    \n",
    "    return series"
   ]
  },
  {
   "cell_type": "code",
   "execution_count": 76,
   "metadata": {
    "collapsed": false
   },
   "outputs": [
    {
     "name": "stderr",
     "output_type": "stream",
     "text": [
      "/home/paul/anaconda2/lib/python2.7/site-packages/ipykernel/__main__.py:3: SettingWithCopyWarning: \n",
      "A value is trying to be set on a copy of a slice from a DataFrame.\n",
      "Try using .loc[row_indexer,col_indexer] = value instead\n",
      "\n",
      "See the caveats in the documentation: http://pandas.pydata.org/pandas-docs/stable/indexing.html#indexing-view-versus-copy\n",
      "  app.launch_new_instance()\n"
     ]
    }
   ],
   "source": [
    "fruitvale = get_fares_from(df, 'Fruitvale', 20)\n",
    "mont = get_fares_from(df, 'Montgomery', 20)"
   ]
  },
  {
   "cell_type": "code",
   "execution_count": 124,
   "metadata": {
    "collapsed": true
   },
   "outputs": [],
   "source": [
    "ballpark = testnodes.loc['Ballpark']"
   ]
  },
  {
   "cell_type": "code",
   "execution_count": 126,
   "metadata": {
    "collapsed": false
   },
   "outputs": [],
   "source": [
    "def min_fare(series, fare_df):\n",
    "    \"\"\"\n",
    "    Returns minimum fare to each station based on a series where index is the proxy station\n",
    "    that we calculate all fares from, and value is the additive fare (e.g. from new stop to\n",
    "    existing proxy station)\n",
    "    \"\"\"\n",
    "    ser = pd.Series()\n",
    "    for index, value in ballpark.iteritems():\n",
    "        fares = get_fares_from(df, index, value)\n",
    "        ser = pd.concat([ser, fares], axis=1)\n",
    "\n",
    "    fare = ser.min(axis=1)\n",
    "    return fare"
   ]
  },
  {
   "cell_type": "code",
   "execution_count": 154,
   "metadata": {
    "collapsed": true
   },
   "outputs": [],
   "source": [
    "def get_all_fares(node_df, fare_df):\n",
    "    \"\"\"\n",
    "    Takes in DataFrame of new nodes, with new station names as index, and proxy stations as columns,\n",
    "    with additive fares to proxy stations as values in each column. Returns DataFrame in similar format to \n",
    "    original data. Need to add node IDs.\n",
    "    \"\"\"\n",
    "    \n",
    "    df = pd.DataFrame(columns=['name_from', 'name_to', 'fare'])\n",
    "    \n",
    "    for index, row in node_df.iterrows():\n",
    "        results = pd.DataFrame(min_fare(row, fare_df))\n",
    "        results.reset_index(inplace=True)\n",
    "        results.columns = ['name_to', 'fare']\n",
    "        results['name_from'] = index\n",
    "        df = pd.concat([df,results], axis = 0)\n",
    "        \n",
    "    return df\n",
    "        "
   ]
  },
  {
   "cell_type": "code",
   "execution_count": 19,
   "metadata": {
    "collapsed": false
   },
   "outputs": [
    {
     "ename": "NameError",
     "evalue": "name 'get_all_fares' is not defined",
     "output_type": "error",
     "traceback": [
      "\u001b[0;31m---------------------------------------------------------------------------\u001b[0m",
      "\u001b[0;31mNameError\u001b[0m                                 Traceback (most recent call last)",
      "\u001b[0;32m<ipython-input-19-f5f1585c2ba2>\u001b[0m in \u001b[0;36m<module>\u001b[0;34m()\u001b[0m\n\u001b[0;32m----> 1\u001b[0;31m \u001b[0moutput\u001b[0m \u001b[0;34m=\u001b[0m \u001b[0mget_all_fares\u001b[0m\u001b[0;34m(\u001b[0m\u001b[0mtestnodes\u001b[0m\u001b[0;34m,\u001b[0m \u001b[0mdf\u001b[0m\u001b[0;34m)\u001b[0m\u001b[0;34m\u001b[0m\u001b[0m\n\u001b[0m",
      "\u001b[0;31mNameError\u001b[0m: name 'get_all_fares' is not defined"
     ]
    }
   ],
   "source": [
    "get_all_fares(testnodes, df)"
   ]
  }
 ],
 "metadata": {
  "kernelspec": {
   "display_name": "Python 3",
   "language": "python",
   "name": "python3"
  },
  "language_info": {
   "codemirror_mode": {
    "name": "ipython",
    "version": 3
   },
   "file_extension": ".py",
   "mimetype": "text/x-python",
   "name": "python",
   "nbconvert_exporter": "python",
   "pygments_lexer": "ipython3",
   "version": "3.5.2"
  }
 },
 "nbformat": 4,
 "nbformat_minor": 0
}
