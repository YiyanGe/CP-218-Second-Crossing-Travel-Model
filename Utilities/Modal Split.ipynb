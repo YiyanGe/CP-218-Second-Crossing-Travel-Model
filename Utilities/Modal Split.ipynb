{
 "cells": [
  {
   "cell_type": "code",
   "execution_count": 1,
   "metadata": {
    "collapsed": true
   },
   "outputs": [],
   "source": [
    "import pandas as pd"
   ]
  },
  {
   "cell_type": "code",
   "execution_count": 2,
   "metadata": {
    "collapsed": true
   },
   "outputs": [],
   "source": [
    "trips=pd.DataFrame.from_csv('test_data/trips.csv')"
   ]
  },
  {
   "cell_type": "code",
   "execution_count": 3,
   "metadata": {
    "collapsed": false
   },
   "outputs": [
    {
     "data": {
      "text/plain": [
       "['hh_id',\n",
       " 'person_id',\n",
       " 'tour_id',\n",
       " 'orig_taz',\n",
       " 'dest_taz',\n",
       " 'trip_mode',\n",
       " 'tour_purpose',\n",
       " 'orig_purpose',\n",
       " 'dest_purpose',\n",
       " 'depart_hour',\n",
       " 'num_participants',\n",
       " 'timeCodeNum',\n",
       " 'timeperiod_label',\n",
       " 'timeCode',\n",
       " 'incQ',\n",
       " 'incQ_label',\n",
       " 'autoSuff',\n",
       " 'autoSuff_label',\n",
       " 'home_taz',\n",
       " 'walk_subzone',\n",
       " 'walk_subzone_label',\n",
       " 'ptype',\n",
       " 'ptype_label',\n",
       " 'distance',\n",
       " 'amode',\n",
       " 'wlk_trip',\n",
       " 'bik_trip',\n",
       " 'wtr_trip',\n",
       " 'dtr_trip',\n",
       " 'active',\n",
       " 'costMode',\n",
       " 'cost',\n",
       " 'cost_fail',\n",
       " 'time',\n",
       " 'time_fail',\n",
       " 'trip_cost_indiv',\n",
       " 'trip_cost_joint']"
      ]
     },
     "execution_count": 3,
     "metadata": {},
     "output_type": "execute_result"
    }
   ],
   "source": [
    "var = list(trips.columns)\n",
    "var"
   ]
  },
  {
   "cell_type": "code",
   "execution_count": null,
   "metadata": {
    "collapsed": true
   },
   "outputs": [],
   "source": []
  }
 ],
 "metadata": {
  "kernelspec": {
   "display_name": "Python 3",
   "language": "python",
   "name": "python3"
  },
  "language_info": {
   "codemirror_mode": {
    "name": "ipython",
    "version": 3
   },
   "file_extension": ".py",
   "mimetype": "text/x-python",
   "name": "python",
   "nbconvert_exporter": "python",
   "pygments_lexer": "ipython3",
   "version": "3.5.2"
  }
 },
 "nbformat": 4,
 "nbformat_minor": 0
}
