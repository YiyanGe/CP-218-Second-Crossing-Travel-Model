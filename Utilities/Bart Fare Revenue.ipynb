{
 "cells": [
  {
   "cell_type": "code",
   "execution_count": 1,
   "metadata": {
    "collapsed": false
   },
   "outputs": [],
   "source": [
    "import pandas as pd"
   ]
  },
  {
   "cell_type": "code",
   "execution_count": 2,
   "metadata": {
    "collapsed": true
   },
   "outputs": [],
   "source": [
    "trips=pd.DataFrame.from_csv('test_data/trips.csv')"
   ]
  },
  {
   "cell_type": "code",
   "execution_count": 3,
   "metadata": {
    "collapsed": false
   },
   "outputs": [
    {
     "data": {
      "text/html": [
       "<div>\n",
       "<table border=\"1\" class=\"dataframe\">\n",
       "  <thead>\n",
       "    <tr style=\"text-align: right;\">\n",
       "      <th></th>\n",
       "      <th>hh_id</th>\n",
       "      <th>person_id</th>\n",
       "      <th>tour_id</th>\n",
       "      <th>orig_taz</th>\n",
       "      <th>dest_taz</th>\n",
       "      <th>trip_mode</th>\n",
       "      <th>tour_purpose</th>\n",
       "      <th>orig_purpose</th>\n",
       "      <th>dest_purpose</th>\n",
       "      <th>depart_hour</th>\n",
       "      <th>...</th>\n",
       "      <th>wtr_trip</th>\n",
       "      <th>dtr_trip</th>\n",
       "      <th>active</th>\n",
       "      <th>costMode</th>\n",
       "      <th>cost</th>\n",
       "      <th>cost_fail</th>\n",
       "      <th>time</th>\n",
       "      <th>time_fail</th>\n",
       "      <th>trip_cost_indiv</th>\n",
       "      <th>trip_cost_joint</th>\n",
       "    </tr>\n",
       "  </thead>\n",
       "  <tbody>\n",
       "    <tr>\n",
       "      <th>1</th>\n",
       "      <td>3225901</td>\n",
       "      <td>8657901</td>\n",
       "      <td>1</td>\n",
       "      <td>6</td>\n",
       "      <td>1</td>\n",
       "      <td>7</td>\n",
       "      <td>othdiscr</td>\n",
       "      <td>othdiscr</td>\n",
       "      <td>Home</td>\n",
       "      <td>20</td>\n",
       "      <td>...</td>\n",
       "      <td>0</td>\n",
       "      <td>0</td>\n",
       "      <td>19.4</td>\n",
       "      <td>7</td>\n",
       "      <td>0.00</td>\n",
       "      <td>0</td>\n",
       "      <td>19.40</td>\n",
       "      <td>0</td>\n",
       "      <td>0.00</td>\n",
       "      <td>0</td>\n",
       "    </tr>\n",
       "    <tr>\n",
       "      <th>2</th>\n",
       "      <td>3167468</td>\n",
       "      <td>8505743</td>\n",
       "      <td>0</td>\n",
       "      <td>16</td>\n",
       "      <td>1</td>\n",
       "      <td>7</td>\n",
       "      <td>eatout</td>\n",
       "      <td>eatout</td>\n",
       "      <td>Home</td>\n",
       "      <td>21</td>\n",
       "      <td>...</td>\n",
       "      <td>0</td>\n",
       "      <td>0</td>\n",
       "      <td>10.2</td>\n",
       "      <td>7</td>\n",
       "      <td>0.00</td>\n",
       "      <td>0</td>\n",
       "      <td>10.20</td>\n",
       "      <td>0</td>\n",
       "      <td>0.00</td>\n",
       "      <td>0</td>\n",
       "    </tr>\n",
       "    <tr>\n",
       "      <th>3</th>\n",
       "      <td>3167468</td>\n",
       "      <td>8505744</td>\n",
       "      <td>0</td>\n",
       "      <td>2</td>\n",
       "      <td>1</td>\n",
       "      <td>7</td>\n",
       "      <td>othdiscr</td>\n",
       "      <td>othdiscr</td>\n",
       "      <td>Home</td>\n",
       "      <td>22</td>\n",
       "      <td>...</td>\n",
       "      <td>0</td>\n",
       "      <td>0</td>\n",
       "      <td>7.4</td>\n",
       "      <td>7</td>\n",
       "      <td>0.00</td>\n",
       "      <td>0</td>\n",
       "      <td>7.40</td>\n",
       "      <td>0</td>\n",
       "      <td>0.00</td>\n",
       "      <td>0</td>\n",
       "    </tr>\n",
       "    <tr>\n",
       "      <th>4</th>\n",
       "      <td>3167465</td>\n",
       "      <td>8505737</td>\n",
       "      <td>0</td>\n",
       "      <td>107</td>\n",
       "      <td>1</td>\n",
       "      <td>1</td>\n",
       "      <td>othmaint</td>\n",
       "      <td>othmaint</td>\n",
       "      <td>Home</td>\n",
       "      <td>23</td>\n",
       "      <td>...</td>\n",
       "      <td>0</td>\n",
       "      <td>0</td>\n",
       "      <td>0.0</td>\n",
       "      <td>1</td>\n",
       "      <td>43.04</td>\n",
       "      <td>0</td>\n",
       "      <td>12.11</td>\n",
       "      <td>0</td>\n",
       "      <td>43.04</td>\n",
       "      <td>0</td>\n",
       "    </tr>\n",
       "    <tr>\n",
       "      <th>5</th>\n",
       "      <td>3167465</td>\n",
       "      <td>8505738</td>\n",
       "      <td>0</td>\n",
       "      <td>951</td>\n",
       "      <td>1</td>\n",
       "      <td>1</td>\n",
       "      <td>work_very high</td>\n",
       "      <td>work</td>\n",
       "      <td>Home</td>\n",
       "      <td>19</td>\n",
       "      <td>...</td>\n",
       "      <td>0</td>\n",
       "      <td>0</td>\n",
       "      <td>0.0</td>\n",
       "      <td>1</td>\n",
       "      <td>683.45</td>\n",
       "      <td>0</td>\n",
       "      <td>25.53</td>\n",
       "      <td>0</td>\n",
       "      <td>683.45</td>\n",
       "      <td>0</td>\n",
       "    </tr>\n",
       "  </tbody>\n",
       "</table>\n",
       "<p>5 rows × 37 columns</p>\n",
       "</div>"
      ],
      "text/plain": [
       "     hh_id  person_id  tour_id  orig_taz  dest_taz  trip_mode    tour_purpose  \\\n",
       "1  3225901    8657901        1         6         1          7        othdiscr   \n",
       "2  3167468    8505743        0        16         1          7          eatout   \n",
       "3  3167468    8505744        0         2         1          7        othdiscr   \n",
       "4  3167465    8505737        0       107         1          1        othmaint   \n",
       "5  3167465    8505738        0       951         1          1  work_very high   \n",
       "\n",
       "  orig_purpose dest_purpose  depart_hour       ...         wtr_trip  dtr_trip  \\\n",
       "1     othdiscr         Home           20       ...                0         0   \n",
       "2       eatout         Home           21       ...                0         0   \n",
       "3     othdiscr         Home           22       ...                0         0   \n",
       "4     othmaint         Home           23       ...                0         0   \n",
       "5         work         Home           19       ...                0         0   \n",
       "\n",
       "  active costMode    cost cost_fail   time time_fail  trip_cost_indiv  \\\n",
       "1   19.4        7    0.00         0  19.40         0             0.00   \n",
       "2   10.2        7    0.00         0  10.20         0             0.00   \n",
       "3    7.4        7    0.00         0   7.40         0             0.00   \n",
       "4    0.0        1   43.04         0  12.11         0            43.04   \n",
       "5    0.0        1  683.45         0  25.53         0           683.45   \n",
       "\n",
       "   trip_cost_joint  \n",
       "1                0  \n",
       "2                0  \n",
       "3                0  \n",
       "4                0  \n",
       "5                0  \n",
       "\n",
       "[5 rows x 37 columns]"
      ]
     },
     "execution_count": 3,
     "metadata": {},
     "output_type": "execute_result"
    }
   ],
   "source": [
    "trips.head()"
   ]
  },
  {
   "cell_type": "code",
   "execution_count": 4,
   "metadata": {
    "collapsed": false
   },
   "outputs": [],
   "source": [
    "var = list(trips.columns)"
   ]
  },
  {
   "cell_type": "code",
   "execution_count": 6,
   "metadata": {
    "collapsed": false
   },
   "outputs": [
    {
     "data": {
      "text/plain": [
       "array([  7.,   1.,   3.,   9.,   5.,  10.,  12.,  11.,   8.,  14.,  13.,\n",
       "         4.,  17.,   2.,  18.,  15.,  16.,  nan])"
      ]
     },
     "execution_count": 6,
     "metadata": {},
     "output_type": "execute_result"
    }
   ],
   "source": [
    "#1 - Drive alone free; \n",
    "#2 - Drive alone pay; \n",
    "#3 - Shared ride 2 free; \n",
    "#4 - Shared ride 2 pay; \n",
    "#5 - Shared ride 3+ free; \n",
    "#6 - Shared ride 3+ pay; \n",
    "#7 - Walk; \n",
    "#8 - Bike; \n",
    "#9 - Walk to local bus; \n",
    "#10 - Walk to light rail or ferry; \n",
    "#11 - Walk to express bus; \n",
    "#12 - Walk to BART; \n",
    "#13 - Walk to commuter rail; \n",
    "#14 - Drive to local bus; \n",
    "#15 - Drive to light rail or ferry; \n",
    "#16 - Drive to express bus; \n",
    "#17 - Drive to BART; \n",
    "#18 - Drive to commuter rail\n",
    "trips['trip_mode'].unique()"
   ]
  },
  {
   "cell_type": "code",
   "execution_count": 9,
   "metadata": {
    "collapsed": false
   },
   "outputs": [],
   "source": [
    "trips_bart = trips[(trips['trip_mode'] == 12) | (trips['trip_mode'] == 17)]"
   ]
  },
  {
   "cell_type": "code",
   "execution_count": 20,
   "metadata": {
    "collapsed": false
   },
   "outputs": [
    {
     "data": {
      "text/plain": [
       "array([ 3.,  5.,  4.])"
      ]
     },
     "execution_count": 20,
     "metadata": {},
     "output_type": "execute_result"
    }
   ],
   "source": [
    "# auxiliary mode\n",
    "#1\twalk access connector\tWalk from centroid to auxiliary rail node/bus stop\n",
    "#2\tdrive access connector\tDrive from centroid to drive auxiliary node\n",
    "#3\tstop-to-stop or stop-to-station transfer link\tWalk transfer link between transit stops\n",
    "#4\tdrive access funnel link\tTransfer between drive auxiliary node and station platform node\n",
    "#5\twalk access funnel link\tTransfer between walk auxiliary node and station platform node\n",
    "#6\twalk egress connector\tWalk from auxiliary rail node/bus stop to centroid\n",
    "#7\tdrive egress connector\tDrive from auxiliary node to centroid\n",
    "# 3 is transfer\n",
    "# 4 is driving access\n",
    "# 5 is walking access\n",
    "trips_bart['amode'].unique()"
   ]
  },
  {
   "cell_type": "code",
   "execution_count": 25,
   "metadata": {
    "collapsed": false
   },
   "outputs": [
    {
     "data": {
      "text/plain": [
       "array([  9.,  11.,  10.])"
      ]
     },
     "execution_count": 25,
     "metadata": {},
     "output_type": "execute_result"
    }
   ],
   "source": [
    "#probably don't need to worry about this\n",
    "trips_bart['costMode'].unique()"
   ]
  },
  {
   "cell_type": "code",
   "execution_count": 28,
   "metadata": {
    "collapsed": false
   },
   "outputs": [
    {
     "data": {
      "text/plain": [
       "72564041.64772476"
      ]
     },
     "execution_count": 28,
     "metadata": {},
     "output_type": "execute_result"
    }
   ],
   "source": [
    "(trips_bart['cost'].sum())*251.99/180.2"
   ]
  },
  {
   "cell_type": "code",
   "execution_count": null,
   "metadata": {
    "collapsed": true
   },
   "outputs": [],
   "source": []
  }
 ],
 "metadata": {
  "kernelspec": {
   "display_name": "Python 3",
   "language": "python",
   "name": "python3"
  },
  "language_info": {
   "codemirror_mode": {
    "name": "ipython",
    "version": 3
   },
   "file_extension": ".py",
   "mimetype": "text/x-python",
   "name": "python",
   "nbconvert_exporter": "python",
   "pygments_lexer": "ipython3",
   "version": "3.5.2"
  }
 },
 "nbformat": 4,
 "nbformat_minor": 0
}
