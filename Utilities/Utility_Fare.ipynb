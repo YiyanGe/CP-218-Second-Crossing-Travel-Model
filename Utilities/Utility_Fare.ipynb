{
 "cells": [
  {
   "cell_type": "code",
   "execution_count": 51,
   "metadata": {
    "collapsed": true
   },
   "outputs": [],
   "source": [
    "import pandas as pd"
   ]
  },
  {
   "cell_type": "code",
   "execution_count": 52,
   "metadata": {
    "collapsed": true
   },
   "outputs": [],
   "source": [
    "def AddStaToLookup(row,lookup):\n",
    "    name = row[1]\n",
    "    node = row[0]\n",
    "    lookup[name] = node"
   ]
  },
  {
   "cell_type": "code",
   "execution_count": 53,
   "metadata": {
    "collapsed": true
   },
   "outputs": [],
   "source": [
    "def get_fares_from(df, name, add_fare):\n",
    "    \"\"\"\n",
    "    This function gets all the fares from one station to every other in the original fare table.\n",
    "    \n",
    "    df : pandas DataFrame\n",
    "        The original fare table\n",
    "    name : str\n",
    "        The name of the station that you want to get fares from\n",
    "    add_fare : int\n",
    "        Additional fare to add to each value in the existing fare table\n",
    "        \n",
    "    Returns a pandas Series of stations and fares\n",
    "    \"\"\"\n",
    "    station = df.loc[(df.name_from == name) | (df.name_to == name)]\n",
    "    station['destination'] = ''\n",
    "    station.loc[station.name_from != name, 'destination'] = station.loc[station.name_from != name, 'name_from']\n",
    "    station.loc[station.name_to != name, 'destination'] = station.loc[station.name_to != name, 'name_to']\n",
    "    station.set_index('destination', inplace=True)\n",
    "    \n",
    "    series = pd.Series(data=(station.fare + add_fare), name=name)\n",
    "    \n",
    "    return series"
   ]
  },
  {
   "cell_type": "code",
   "execution_count": 54,
   "metadata": {
    "collapsed": true
   },
   "outputs": [],
   "source": [
    "def min_fare(series, df):\n",
    "    \"\"\"\n",
    "    Returns minimum fare to each station based on a series where index is the proxy station\n",
    "    that we calculate all fares from, and value is the additive fare (e.g. from new stop to\n",
    "    existing proxy station)\n",
    "    \n",
    "    df is original fare table\n",
    "    \"\"\"\n",
    "    ser = pd.Series()\n",
    "    for index, value in series.iteritems():\n",
    "        fares = get_fares_from(df, index, value)\n",
    "        ser = pd.concat([ser, fares], axis=1)\n",
    "\n",
    "    fare = ser.min(axis=1)\n",
    "    return fare"
   ]
  },
  {
   "cell_type": "code",
   "execution_count": 55,
   "metadata": {
    "collapsed": true
   },
   "outputs": [],
   "source": [
    "def get_all_fares(node_df, fare_df, output_df, nodelookup):\n",
    "    \"\"\"\n",
    "    Takes in DataFrame of new nodes, with new station names as index, and proxy stations as columns,\n",
    "    with additive fares to proxy stations as values in each column. Returns DataFrame in similar format to \n",
    "    original data. Need to add node IDs.\n",
    "    \"\"\"\n",
    "    \n",
    "    for index, row in node_df.iterrows():\n",
    "        results = pd.DataFrame(min_fare(row, fare_df))\n",
    "        results.reset_index(inplace=True)\n",
    "        results.columns = ['name_to', 'fare']\n",
    "        results['name_from'] = index\n",
    "        output_df = pd.concat([output_df,results], axis = 0)\n",
    "    \n",
    "    output_df['node_from'] = output_df['name_from'].apply(lambda x: lookup[x])\n",
    "    output_df['node_to'] = output_df['name_to'].apply(lambda x: lookup[x])\n",
    "        \n",
    "    return output_df"
   ]
  },
  {
   "cell_type": "code",
   "execution_count": 103,
   "metadata": {
    "collapsed": false
   },
   "outputs": [
    {
     "data": {
      "text/html": [
       "<div>\n",
       "<table border=\"1\" class=\"dataframe\">\n",
       "  <thead>\n",
       "    <tr style=\"text-align: right;\">\n",
       "      <th></th>\n",
       "      <th>node_from</th>\n",
       "      <th>node_to</th>\n",
       "      <th>fare</th>\n",
       "      <th>name_from</th>\n",
       "      <th>name_to</th>\n",
       "    </tr>\n",
       "  </thead>\n",
       "  <tbody>\n",
       "    <tr>\n",
       "      <th>0</th>\n",
       "      <td>15538</td>\n",
       "      <td>15545</td>\n",
       "      <td>129</td>\n",
       "      <td>Dublin/ Pleasanton</td>\n",
       "      <td>West Dublin/Pleasanton</td>\n",
       "    </tr>\n",
       "    <tr>\n",
       "      <th>1</th>\n",
       "      <td>15538</td>\n",
       "      <td>15537</td>\n",
       "      <td>129</td>\n",
       "      <td>Dublin/ Pleasanton</td>\n",
       "      <td>Castro Valley</td>\n",
       "    </tr>\n",
       "    <tr>\n",
       "      <th>2</th>\n",
       "      <td>15538</td>\n",
       "      <td>15526</td>\n",
       "      <td>325</td>\n",
       "      <td>Dublin/ Pleasanton</td>\n",
       "      <td>Fremont</td>\n",
       "    </tr>\n",
       "    <tr>\n",
       "      <th>3</th>\n",
       "      <td>15538</td>\n",
       "      <td>15527</td>\n",
       "      <td>304</td>\n",
       "      <td>Dublin/ Pleasanton</td>\n",
       "      <td>Union City</td>\n",
       "    </tr>\n",
       "    <tr>\n",
       "      <th>4</th>\n",
       "      <td>15538</td>\n",
       "      <td>15528</td>\n",
       "      <td>269</td>\n",
       "      <td>Dublin/ Pleasanton</td>\n",
       "      <td>South Hayward</td>\n",
       "    </tr>\n",
       "  </tbody>\n",
       "</table>\n",
       "</div>"
      ],
      "text/plain": [
       "   node_from  node_to  fare           name_from                 name_to\n",
       "0      15538    15545   129  Dublin/ Pleasanton  West Dublin/Pleasanton\n",
       "1      15538    15537   129  Dublin/ Pleasanton           Castro Valley\n",
       "2      15538    15526   325  Dublin/ Pleasanton                 Fremont\n",
       "3      15538    15527   304  Dublin/ Pleasanton              Union City\n",
       "4      15538    15528   269  Dublin/ Pleasanton           South Hayward"
      ]
     },
     "execution_count": 103,
     "metadata": {},
     "output_type": "execute_result"
    }
   ],
   "source": [
    "# Read BART.far data into DataFrame\n",
    "df = pd.read_table('test_data/BART.far', header=None, names=['node_from', 'node_to', \n",
    "                                                  'fare', ';', 'name_from', 'name_to'])\n",
    "df = df.drop(';', axis=1)\n",
    "df.name_from = df.name_from.str.replace(\" to\", \"\")\n",
    "\n",
    "# Read new stations definition\n",
    "new_sta = pd.DataFrame.from_csv('test_data/new_station_alt1.csv')\n",
    "new_sta['Station'] = new_sta.index\n",
    "new_sta.reset_index(drop=True, inplace=True)\n",
    "\n",
    "# get unique node number and name:\n",
    "lookup = {}\n",
    "for x in list(set(list(df[['node_from','name_from']].apply(lambda x: str(x[0]) + '@' + x[1], axis=1).unique()) + list(df[['node_to','name_to']].apply(lambda x: str(x[0]) + '@' + x[1], axis=1).unique()))):\n",
    "    lookup[x.split('@')[1]] = int(x.split('@')[0])\n",
    "new_sta.apply(lambda x: AddStaToLookup(x, lookup), axis=1)"
   ]
  },
  {
   "cell_type": "code",
   "execution_count": 94,
   "metadata": {
    "collapsed": false
   },
   "outputs": [],
   "source": [
    "# Make DataFrame of new nodes with additive fares to each proxy station. \n",
    "# We will take fares from each proxy station to each other station in the BART network,\n",
    "# Add the fare from the new station of interest (e.g. fare from Ballpark to Fruitvale)\n",
    "# And find the minimum fare to each other station in the network\n",
    "farelink = pd.DataFrame.from_csv('test_data/farelink_alt2_op.csv')"
   ]
  },
  {
   "cell_type": "code",
   "execution_count": 95,
   "metadata": {
    "collapsed": false
   },
   "outputs": [
    {
     "data": {
      "text/html": [
       "<div>\n",
       "<table border=\"1\" class=\"dataframe\">\n",
       "  <thead>\n",
       "    <tr style=\"text-align: right;\">\n",
       "      <th></th>\n",
       "      <th>MacArthur</th>\n",
       "      <th>Fruitvale</th>\n",
       "    </tr>\n",
       "    <tr>\n",
       "      <th>Station</th>\n",
       "      <th></th>\n",
       "      <th></th>\n",
       "    </tr>\n",
       "  </thead>\n",
       "  <tbody>\n",
       "    <tr>\n",
       "      <th>15th/Franklin</th>\n",
       "      <td>129</td>\n",
       "      <td>258</td>\n",
       "    </tr>\n",
       "    <tr>\n",
       "      <th>Jack London Square</th>\n",
       "      <td>258</td>\n",
       "      <td>129</td>\n",
       "    </tr>\n",
       "    <tr>\n",
       "      <th>Alameda</th>\n",
       "      <td>387</td>\n",
       "      <td>258</td>\n",
       "    </tr>\n",
       "    <tr>\n",
       "      <th>4th/Brannan</th>\n",
       "      <td>604</td>\n",
       "      <td>475</td>\n",
       "    </tr>\n",
       "    <tr>\n",
       "      <th>6th/Brannan</th>\n",
       "      <td>604</td>\n",
       "      <td>475</td>\n",
       "    </tr>\n",
       "    <tr>\n",
       "      <th>Howard</th>\n",
       "      <td>604</td>\n",
       "      <td>475</td>\n",
       "    </tr>\n",
       "    <tr>\n",
       "      <th>Hyde</th>\n",
       "      <td>604</td>\n",
       "      <td>475</td>\n",
       "    </tr>\n",
       "    <tr>\n",
       "      <th>Van Ness</th>\n",
       "      <td>604</td>\n",
       "      <td>475</td>\n",
       "    </tr>\n",
       "    <tr>\n",
       "      <th>Fillmore</th>\n",
       "      <td>604</td>\n",
       "      <td>475</td>\n",
       "    </tr>\n",
       "  </tbody>\n",
       "</table>\n",
       "</div>"
      ],
      "text/plain": [
       "                    MacArthur  Fruitvale\n",
       "Station                                 \n",
       "15th/Franklin             129        258\n",
       "Jack London Square        258        129\n",
       "Alameda                   387        258\n",
       "4th/Brannan               604        475\n",
       "6th/Brannan               604        475\n",
       "Howard                    604        475\n",
       "Hyde                      604        475\n",
       "Van Ness                  604        475\n",
       "Fillmore                  604        475"
      ]
     },
     "execution_count": 95,
     "metadata": {},
     "output_type": "execute_result"
    }
   ],
   "source": [
    "farelink"
   ]
  },
  {
   "cell_type": "code",
   "execution_count": 10,
   "metadata": {
    "collapsed": false
   },
   "outputs": [
    {
     "ename": "NameError",
     "evalue": "name 'get_all_fares' is not defined",
     "output_type": "error",
     "traceback": [
      "\u001b[0;31m---------------------------------------------------------------------------\u001b[0m",
      "\u001b[0;31mNameError\u001b[0m                                 Traceback (most recent call last)",
      "\u001b[0;32m<ipython-input-10-42eec5d8d405>\u001b[0m in \u001b[0;36m<module>\u001b[0;34m()\u001b[0m\n\u001b[1;32m      1\u001b[0m \u001b[0moutput_df\u001b[0m \u001b[0;34m=\u001b[0m \u001b[0mpd\u001b[0m\u001b[0;34m.\u001b[0m\u001b[0mDataFrame\u001b[0m\u001b[0;34m(\u001b[0m\u001b[0mcolumns\u001b[0m\u001b[0;34m=\u001b[0m\u001b[0;34m[\u001b[0m\u001b[0;34m'node_from'\u001b[0m\u001b[0;34m,\u001b[0m\u001b[0;34m'node_to'\u001b[0m\u001b[0;34m,\u001b[0m\u001b[0;34m'fare'\u001b[0m\u001b[0;34m,\u001b[0m \u001b[0;34m'name_from'\u001b[0m\u001b[0;34m,\u001b[0m \u001b[0;34m'name_to'\u001b[0m\u001b[0;34m]\u001b[0m\u001b[0;34m)\u001b[0m\u001b[0;34m\u001b[0m\u001b[0m\n\u001b[0;32m----> 2\u001b[0;31m \u001b[0moutput_df\u001b[0m \u001b[0;34m=\u001b[0m \u001b[0mget_all_fares\u001b[0m\u001b[0;34m(\u001b[0m\u001b[0mfarelink\u001b[0m\u001b[0;34m,\u001b[0m \u001b[0mdf\u001b[0m\u001b[0;34m,\u001b[0m \u001b[0moutput_df\u001b[0m\u001b[0;34m,\u001b[0m \u001b[0mlookup\u001b[0m\u001b[0;34m)\u001b[0m\u001b[0;34m\u001b[0m\u001b[0m\n\u001b[0m",
      "\u001b[0;31mNameError\u001b[0m: name 'get_all_fares' is not defined"
     ]
    }
   ],
   "source": [
    "output_df = pd.DataFrame(columns=['node_from','node_to','fare', 'name_from', 'name_to'])\n",
    "output_df = get_all_fares(farelink, df, output_df, lookup)"
   ]
  },
  {
   "cell_type": "code",
   "execution_count": 97,
   "metadata": {
    "collapsed": false
   },
   "outputs": [
    {
     "data": {
      "text/plain": [
       "1855"
      ]
     },
     "execution_count": 97,
     "metadata": {},
     "output_type": "execute_result"
    }
   ],
   "source": [
    "result = df.append(output_df)\n",
    "result['key'] = result[['node_from','node_to']].apply(lambda x: str(min([x[0],x[1]]))+str(max([x[0],x[1]])), axis=1)\n",
    "len(result)"
   ]
  },
  {
   "cell_type": "code",
   "execution_count": 98,
   "metadata": {
    "collapsed": false
   },
   "outputs": [
    {
     "data": {
      "text/html": [
       "<div>\n",
       "<table border=\"1\" class=\"dataframe\">\n",
       "  <thead>\n",
       "    <tr style=\"text-align: right;\">\n",
       "      <th></th>\n",
       "      <th>fare</th>\n",
       "      <th>name_from</th>\n",
       "      <th>name_to</th>\n",
       "      <th>node_from</th>\n",
       "      <th>node_to</th>\n",
       "      <th>key</th>\n",
       "    </tr>\n",
       "  </thead>\n",
       "  <tbody>\n",
       "    <tr>\n",
       "      <th>0</th>\n",
       "      <td>129</td>\n",
       "      <td>Dublin/ Pleasanton</td>\n",
       "      <td>West Dublin/Pleasanton</td>\n",
       "      <td>15538</td>\n",
       "      <td>15545</td>\n",
       "      <td>1553815545</td>\n",
       "    </tr>\n",
       "    <tr>\n",
       "      <th>1</th>\n",
       "      <td>129</td>\n",
       "      <td>Dublin/ Pleasanton</td>\n",
       "      <td>Castro Valley</td>\n",
       "      <td>15538</td>\n",
       "      <td>15537</td>\n",
       "      <td>1553715538</td>\n",
       "    </tr>\n",
       "    <tr>\n",
       "      <th>2</th>\n",
       "      <td>325</td>\n",
       "      <td>Dublin/ Pleasanton</td>\n",
       "      <td>Fremont</td>\n",
       "      <td>15538</td>\n",
       "      <td>15526</td>\n",
       "      <td>1552615538</td>\n",
       "    </tr>\n",
       "    <tr>\n",
       "      <th>3</th>\n",
       "      <td>304</td>\n",
       "      <td>Dublin/ Pleasanton</td>\n",
       "      <td>Union City</td>\n",
       "      <td>15538</td>\n",
       "      <td>15527</td>\n",
       "      <td>1552715538</td>\n",
       "    </tr>\n",
       "    <tr>\n",
       "      <th>4</th>\n",
       "      <td>269</td>\n",
       "      <td>Dublin/ Pleasanton</td>\n",
       "      <td>South Hayward</td>\n",
       "      <td>15538</td>\n",
       "      <td>15528</td>\n",
       "      <td>1552815538</td>\n",
       "    </tr>\n",
       "  </tbody>\n",
       "</table>\n",
       "</div>"
      ],
      "text/plain": [
       "   fare           name_from                 name_to  node_from  node_to  \\\n",
       "0   129  Dublin/ Pleasanton  West Dublin/Pleasanton      15538    15545   \n",
       "1   129  Dublin/ Pleasanton           Castro Valley      15538    15537   \n",
       "2   325  Dublin/ Pleasanton                 Fremont      15538    15526   \n",
       "3   304  Dublin/ Pleasanton              Union City      15538    15527   \n",
       "4   269  Dublin/ Pleasanton           South Hayward      15538    15528   \n",
       "\n",
       "          key  \n",
       "0  1553815545  \n",
       "1  1553715538  \n",
       "2  1552615538  \n",
       "3  1552715538  \n",
       "4  1552815538  "
      ]
     },
     "execution_count": 98,
     "metadata": {},
     "output_type": "execute_result"
    }
   ],
   "source": [
    "result.drop_duplicates('key', keep='first', inplace=True)\n",
    "result.reset_index(drop=True,inplace=True)\n",
    "result.head()"
   ]
  },
  {
   "cell_type": "code",
   "execution_count": 87,
   "metadata": {
    "collapsed": true
   },
   "outputs": [],
   "source": [
    "# need to manually add fare links between new stations"
   ]
  },
  {
   "cell_type": "code",
   "execution_count": 99,
   "metadata": {
    "collapsed": true
   },
   "outputs": [],
   "source": [
    "i = result.index.max() + 1\n",
    "allsta = list(new_sta.Station.unique())\n",
    "for station in allsta:\n",
    "    othersta = [x for x in allsta if x!=station]\n",
    "    for item in othersta:\n",
    "        result.loc[i] = [0, station, item, lookup[station], lookup[item], str(min([lookup[station], lookup[item]]))+str(max([lookup[station], lookup[item]]))]\n",
    "        i +=1"
   ]
  },
  {
   "cell_type": "code",
   "execution_count": 100,
   "metadata": {
    "collapsed": false
   },
   "outputs": [
    {
     "data": {
      "text/html": [
       "<div>\n",
       "<table border=\"1\" class=\"dataframe\">\n",
       "  <thead>\n",
       "    <tr style=\"text-align: right;\">\n",
       "      <th></th>\n",
       "      <th>fare</th>\n",
       "      <th>name_from</th>\n",
       "      <th>name_to</th>\n",
       "      <th>node_from</th>\n",
       "      <th>node_to</th>\n",
       "      <th>key</th>\n",
       "    </tr>\n",
       "  </thead>\n",
       "  <tbody>\n",
       "    <tr>\n",
       "      <th>0</th>\n",
       "      <td>129</td>\n",
       "      <td>Dublin/ Pleasanton</td>\n",
       "      <td>West Dublin/Pleasanton</td>\n",
       "      <td>15538</td>\n",
       "      <td>15545</td>\n",
       "      <td>1553815545</td>\n",
       "    </tr>\n",
       "    <tr>\n",
       "      <th>1</th>\n",
       "      <td>129</td>\n",
       "      <td>Dublin/ Pleasanton</td>\n",
       "      <td>Castro Valley</td>\n",
       "      <td>15538</td>\n",
       "      <td>15537</td>\n",
       "      <td>1553715538</td>\n",
       "    </tr>\n",
       "    <tr>\n",
       "      <th>2</th>\n",
       "      <td>325</td>\n",
       "      <td>Dublin/ Pleasanton</td>\n",
       "      <td>Fremont</td>\n",
       "      <td>15538</td>\n",
       "      <td>15526</td>\n",
       "      <td>1552615538</td>\n",
       "    </tr>\n",
       "    <tr>\n",
       "      <th>3</th>\n",
       "      <td>304</td>\n",
       "      <td>Dublin/ Pleasanton</td>\n",
       "      <td>Union City</td>\n",
       "      <td>15538</td>\n",
       "      <td>15527</td>\n",
       "      <td>1552715538</td>\n",
       "    </tr>\n",
       "    <tr>\n",
       "      <th>4</th>\n",
       "      <td>269</td>\n",
       "      <td>Dublin/ Pleasanton</td>\n",
       "      <td>South Hayward</td>\n",
       "      <td>15538</td>\n",
       "      <td>15528</td>\n",
       "      <td>1552815538</td>\n",
       "    </tr>\n",
       "  </tbody>\n",
       "</table>\n",
       "</div>"
      ],
      "text/plain": [
       "   fare           name_from                 name_to  node_from  node_to  \\\n",
       "0   129  Dublin/ Pleasanton  West Dublin/Pleasanton      15538    15545   \n",
       "1   129  Dublin/ Pleasanton           Castro Valley      15538    15537   \n",
       "2   325  Dublin/ Pleasanton                 Fremont      15538    15526   \n",
       "3   304  Dublin/ Pleasanton              Union City      15538    15527   \n",
       "4   269  Dublin/ Pleasanton           South Hayward      15538    15528   \n",
       "\n",
       "          key  \n",
       "0  1553815545  \n",
       "1  1553715538  \n",
       "2  1552615538  \n",
       "3  1552715538  \n",
       "4  1552815538  "
      ]
     },
     "execution_count": 100,
     "metadata": {},
     "output_type": "execute_result"
    }
   ],
   "source": [
    "result.drop_duplicates('key', keep='first', inplace=True)\n",
    "result.reset_index(drop=True,inplace=True)\n",
    "result.head()"
   ]
  },
  {
   "cell_type": "code",
   "execution_count": 101,
   "metadata": {
    "collapsed": false
   },
   "outputs": [],
   "source": [
    "result.to_csv('test_data/bartfare.csv')"
   ]
  },
  {
   "cell_type": "code",
   "execution_count": 96,
   "metadata": {
    "collapsed": false
   },
   "outputs": [
    {
     "data": {
      "text/html": [
       "<div>\n",
       "<table border=\"1\" class=\"dataframe\">\n",
       "  <thead>\n",
       "    <tr style=\"text-align: right;\">\n",
       "      <th></th>\n",
       "      <th>node_from</th>\n",
       "      <th>node_to</th>\n",
       "      <th>fare</th>\n",
       "      <th>name_from</th>\n",
       "      <th>name_to</th>\n",
       "      <th>key</th>\n",
       "      <th>output</th>\n",
       "    </tr>\n",
       "  </thead>\n",
       "  <tbody>\n",
       "    <tr>\n",
       "      <th>0</th>\n",
       "      <td>15536</td>\n",
       "      <td>15539</td>\n",
       "      <td>472</td>\n",
       "      <td>Pittsburg/ Bay Point</td>\n",
       "      <td>Colma</td>\n",
       "      <td>1553615539</td>\n",
       "      <td>15536   15539  472 ; Pittsburg/ Bay Point to C...</td>\n",
       "    </tr>\n",
       "    <tr>\n",
       "      <th>1</th>\n",
       "      <td>15536</td>\n",
       "      <td>15544</td>\n",
       "      <td>507</td>\n",
       "      <td>Pittsburg/ Bay Point</td>\n",
       "      <td>Warm Springs</td>\n",
       "      <td>1553615544</td>\n",
       "      <td>15536   15544  507 ; Pittsburg/ Bay Point to W...</td>\n",
       "    </tr>\n",
       "    <tr>\n",
       "      <th>2</th>\n",
       "      <td>15536</td>\n",
       "      <td>15520</td>\n",
       "      <td>364</td>\n",
       "      <td>Pittsburg/ Bay Point</td>\n",
       "      <td>Richmond</td>\n",
       "      <td>1552015536</td>\n",
       "      <td>15536   15520  364 ; Pittsburg/ Bay Point to R...</td>\n",
       "    </tr>\n",
       "    <tr>\n",
       "      <th>3</th>\n",
       "      <td>15536</td>\n",
       "      <td>15537</td>\n",
       "      <td>402</td>\n",
       "      <td>Pittsburg/ Bay Point</td>\n",
       "      <td>Castro Valley</td>\n",
       "      <td>1553615537</td>\n",
       "      <td>15536   15537  402 ; Pittsburg/ Bay Point to C...</td>\n",
       "    </tr>\n",
       "    <tr>\n",
       "      <th>4</th>\n",
       "      <td>15536</td>\n",
       "      <td>15527</td>\n",
       "      <td>455</td>\n",
       "      <td>Pittsburg/ Bay Point</td>\n",
       "      <td>Union City</td>\n",
       "      <td>1552715536</td>\n",
       "      <td>15536   15527  455 ; Pittsburg/ Bay Point to U...</td>\n",
       "    </tr>\n",
       "  </tbody>\n",
       "</table>\n",
       "</div>"
      ],
      "text/plain": [
       "   node_from  node_to  fare             name_from        name_to         key  \\\n",
       "0      15536    15539   472  Pittsburg/ Bay Point          Colma  1553615539   \n",
       "1      15536    15544   507  Pittsburg/ Bay Point   Warm Springs  1553615544   \n",
       "2      15536    15520   364  Pittsburg/ Bay Point       Richmond  1552015536   \n",
       "3      15536    15537   402  Pittsburg/ Bay Point  Castro Valley  1553615537   \n",
       "4      15536    15527   455  Pittsburg/ Bay Point     Union City  1552715536   \n",
       "\n",
       "                                              output  \n",
       "0  15536   15539  472 ; Pittsburg/ Bay Point to C...  \n",
       "1  15536   15544  507 ; Pittsburg/ Bay Point to W...  \n",
       "2  15536   15520  364 ; Pittsburg/ Bay Point to R...  \n",
       "3  15536   15537  402 ; Pittsburg/ Bay Point to C...  \n",
       "4  15536   15527  455 ; Pittsburg/ Bay Point to U...  "
      ]
     },
     "execution_count": 96,
     "metadata": {},
     "output_type": "execute_result"
    }
   ],
   "source": [
    "# Read BART.far data into DataFrame\n",
    "df = pd.DataFrame.from_csv('test_data/output_atl1.csv')\n",
    "df.head()"
   ]
  },
  {
   "cell_type": "code",
   "execution_count": 97,
   "metadata": {
    "collapsed": false
   },
   "outputs": [],
   "source": [
    "stations_from = list(df['name_from'].unique())\n",
    "stations_from.append('Millbrae')"
   ]
  },
  {
   "cell_type": "code",
   "execution_count": 98,
   "metadata": {
    "collapsed": true
   },
   "outputs": [],
   "source": [
    "stations_to = stations_from"
   ]
  },
  {
   "cell_type": "code",
   "execution_count": 99,
   "metadata": {
    "collapsed": false
   },
   "outputs": [],
   "source": [
    "matrix = pd.DataFrame(columns=(stations_from))"
   ]
  },
  {
   "cell_type": "code",
   "execution_count": 100,
   "metadata": {
    "collapsed": false
   },
   "outputs": [
    {
     "ename": "AttributeError",
     "evalue": "'BlockManager' object has no attribute 'T'",
     "output_type": "error",
     "traceback": [
      "\u001b[0;31m---------------------------------------------------------------------------\u001b[0m",
      "\u001b[0;31mAttributeError\u001b[0m                            Traceback (most recent call last)",
      "\u001b[0;32m<ipython-input-100-8f9c10753f20>\u001b[0m in \u001b[0;36m<module>\u001b[0;34m()\u001b[0m\n\u001b[1;32m      2\u001b[0m     \u001b[0;32mfor\u001b[0m \u001b[0msta_to\u001b[0m \u001b[0;32min\u001b[0m \u001b[0mstations_to\u001b[0m\u001b[0;34m:\u001b[0m\u001b[0;34m\u001b[0m\u001b[0m\n\u001b[1;32m      3\u001b[0m         \u001b[0;32mif\u001b[0m \u001b[0msta_from\u001b[0m \u001b[0;34m==\u001b[0m \u001b[0msta_to\u001b[0m\u001b[0;34m:\u001b[0m\u001b[0;34m\u001b[0m\u001b[0m\n\u001b[0;32m----> 4\u001b[0;31m             \u001b[0mmatrix\u001b[0m\u001b[0;34m.\u001b[0m\u001b[0mset_value\u001b[0m\u001b[0;34m(\u001b[0m\u001b[0msta_from\u001b[0m\u001b[0;34m,\u001b[0m\u001b[0msta_to\u001b[0m\u001b[0;34m,\u001b[0m\u001b[0;36m0\u001b[0m\u001b[0;34m)\u001b[0m\u001b[0;34m\u001b[0m\u001b[0m\n\u001b[0m\u001b[1;32m      5\u001b[0m         \u001b[0;32melse\u001b[0m\u001b[0;34m:\u001b[0m\u001b[0;34m\u001b[0m\u001b[0m\n\u001b[1;32m      6\u001b[0m             \u001b[0mvalue\u001b[0m \u001b[0;34m=\u001b[0m \u001b[0mget_fares_from\u001b[0m\u001b[0;34m(\u001b[0m\u001b[0mdf\u001b[0m\u001b[0;34m,\u001b[0m \u001b[0msta_from\u001b[0m\u001b[0;34m,\u001b[0m \u001b[0;36m0\u001b[0m\u001b[0;34m)\u001b[0m\u001b[0;34m[\u001b[0m\u001b[0msta_to\u001b[0m\u001b[0;34m]\u001b[0m\u001b[0;34m\u001b[0m\u001b[0m\n",
      "\u001b[0;32m/Users/yiyange/anaconda/lib/python3.5/site-packages/pandas/core/frame.py\u001b[0m in \u001b[0;36mset_value\u001b[0;34m(self, index, col, value, takeable)\u001b[0m\n\u001b[1;32m   1835\u001b[0m                 \u001b[0;32mreturn\u001b[0m \u001b[0mseries\u001b[0m\u001b[0;34m.\u001b[0m\u001b[0mset_value\u001b[0m\u001b[0;34m(\u001b[0m\u001b[0mindex\u001b[0m\u001b[0;34m,\u001b[0m \u001b[0mvalue\u001b[0m\u001b[0;34m,\u001b[0m \u001b[0mtakeable\u001b[0m\u001b[0;34m=\u001b[0m\u001b[0;32mTrue\u001b[0m\u001b[0;34m)\u001b[0m\u001b[0;34m\u001b[0m\u001b[0m\n\u001b[1;32m   1836\u001b[0m \u001b[0;34m\u001b[0m\u001b[0m\n\u001b[0;32m-> 1837\u001b[0;31m             \u001b[0mseries\u001b[0m \u001b[0;34m=\u001b[0m \u001b[0mself\u001b[0m\u001b[0;34m.\u001b[0m\u001b[0m_get_item_cache\u001b[0m\u001b[0;34m(\u001b[0m\u001b[0mcol\u001b[0m\u001b[0;34m)\u001b[0m\u001b[0;34m\u001b[0m\u001b[0m\n\u001b[0m\u001b[1;32m   1838\u001b[0m             \u001b[0mengine\u001b[0m \u001b[0;34m=\u001b[0m \u001b[0mself\u001b[0m\u001b[0;34m.\u001b[0m\u001b[0mindex\u001b[0m\u001b[0;34m.\u001b[0m\u001b[0m_engine\u001b[0m\u001b[0;34m\u001b[0m\u001b[0m\n\u001b[1;32m   1839\u001b[0m             \u001b[0mengine\u001b[0m\u001b[0;34m.\u001b[0m\u001b[0mset_value\u001b[0m\u001b[0;34m(\u001b[0m\u001b[0mseries\u001b[0m\u001b[0;34m.\u001b[0m\u001b[0m_values\u001b[0m\u001b[0;34m,\u001b[0m \u001b[0mindex\u001b[0m\u001b[0;34m,\u001b[0m \u001b[0mvalue\u001b[0m\u001b[0;34m)\u001b[0m\u001b[0;34m\u001b[0m\u001b[0m\n",
      "\u001b[0;32m/Users/yiyange/anaconda/lib/python3.5/site-packages/pandas/core/generic.py\u001b[0m in \u001b[0;36m_get_item_cache\u001b[0;34m(self, item)\u001b[0m\n\u001b[1;32m   1090\u001b[0m         \u001b[0;32mif\u001b[0m \u001b[0mres\u001b[0m \u001b[0;32mis\u001b[0m \u001b[0;32mNone\u001b[0m\u001b[0;34m:\u001b[0m\u001b[0;34m\u001b[0m\u001b[0m\n\u001b[1;32m   1091\u001b[0m             \u001b[0mvalues\u001b[0m \u001b[0;34m=\u001b[0m \u001b[0mself\u001b[0m\u001b[0;34m.\u001b[0m\u001b[0m_data\u001b[0m\u001b[0;34m.\u001b[0m\u001b[0mget\u001b[0m\u001b[0;34m(\u001b[0m\u001b[0mitem\u001b[0m\u001b[0;34m)\u001b[0m\u001b[0;34m\u001b[0m\u001b[0m\n\u001b[0;32m-> 1092\u001b[0;31m             \u001b[0mres\u001b[0m \u001b[0;34m=\u001b[0m \u001b[0mself\u001b[0m\u001b[0;34m.\u001b[0m\u001b[0m_box_item_values\u001b[0m\u001b[0;34m(\u001b[0m\u001b[0mitem\u001b[0m\u001b[0;34m,\u001b[0m \u001b[0mvalues\u001b[0m\u001b[0;34m)\u001b[0m\u001b[0;34m\u001b[0m\u001b[0m\n\u001b[0m\u001b[1;32m   1093\u001b[0m             \u001b[0mcache\u001b[0m\u001b[0;34m[\u001b[0m\u001b[0mitem\u001b[0m\u001b[0;34m]\u001b[0m \u001b[0;34m=\u001b[0m \u001b[0mres\u001b[0m\u001b[0;34m\u001b[0m\u001b[0m\n\u001b[1;32m   1094\u001b[0m             \u001b[0mres\u001b[0m\u001b[0;34m.\u001b[0m\u001b[0m_set_as_cached\u001b[0m\u001b[0;34m(\u001b[0m\u001b[0mitem\u001b[0m\u001b[0;34m,\u001b[0m \u001b[0mself\u001b[0m\u001b[0;34m)\u001b[0m\u001b[0;34m\u001b[0m\u001b[0m\n",
      "\u001b[0;32m/Users/yiyange/anaconda/lib/python3.5/site-packages/pandas/core/frame.py\u001b[0m in \u001b[0;36m_box_item_values\u001b[0;34m(self, key, values)\u001b[0m\n\u001b[1;32m   2275\u001b[0m         \u001b[0mitems\u001b[0m \u001b[0;34m=\u001b[0m \u001b[0mself\u001b[0m\u001b[0;34m.\u001b[0m\u001b[0mcolumns\u001b[0m\u001b[0;34m[\u001b[0m\u001b[0mself\u001b[0m\u001b[0;34m.\u001b[0m\u001b[0mcolumns\u001b[0m\u001b[0;34m.\u001b[0m\u001b[0mget_loc\u001b[0m\u001b[0;34m(\u001b[0m\u001b[0mkey\u001b[0m\u001b[0;34m)\u001b[0m\u001b[0;34m]\u001b[0m\u001b[0;34m\u001b[0m\u001b[0m\n\u001b[1;32m   2276\u001b[0m         \u001b[0;32mif\u001b[0m \u001b[0mvalues\u001b[0m\u001b[0;34m.\u001b[0m\u001b[0mndim\u001b[0m \u001b[0;34m==\u001b[0m \u001b[0;36m2\u001b[0m\u001b[0;34m:\u001b[0m\u001b[0;34m\u001b[0m\u001b[0m\n\u001b[0;32m-> 2277\u001b[0;31m             \u001b[0;32mreturn\u001b[0m \u001b[0mself\u001b[0m\u001b[0;34m.\u001b[0m\u001b[0m_constructor\u001b[0m\u001b[0;34m(\u001b[0m\u001b[0mvalues\u001b[0m\u001b[0;34m.\u001b[0m\u001b[0mT\u001b[0m\u001b[0;34m,\u001b[0m \u001b[0mcolumns\u001b[0m\u001b[0;34m=\u001b[0m\u001b[0mitems\u001b[0m\u001b[0;34m,\u001b[0m \u001b[0mindex\u001b[0m\u001b[0;34m=\u001b[0m\u001b[0mself\u001b[0m\u001b[0;34m.\u001b[0m\u001b[0mindex\u001b[0m\u001b[0;34m)\u001b[0m\u001b[0;34m\u001b[0m\u001b[0m\n\u001b[0m\u001b[1;32m   2278\u001b[0m         \u001b[0;32melse\u001b[0m\u001b[0;34m:\u001b[0m\u001b[0;34m\u001b[0m\u001b[0m\n\u001b[1;32m   2279\u001b[0m             \u001b[0;32mreturn\u001b[0m \u001b[0mself\u001b[0m\u001b[0;34m.\u001b[0m\u001b[0m_box_col_values\u001b[0m\u001b[0;34m(\u001b[0m\u001b[0mvalues\u001b[0m\u001b[0;34m,\u001b[0m \u001b[0mitems\u001b[0m\u001b[0;34m)\u001b[0m\u001b[0;34m\u001b[0m\u001b[0m\n",
      "\u001b[0;31mAttributeError\u001b[0m: 'BlockManager' object has no attribute 'T'"
     ]
    }
   ],
   "source": [
    "for sta_from in stations_from:\n",
    "    for sta_to in stations_to:\n",
    "        if sta_from == sta_to:\n",
    "            matrix.set_value(sta_from,sta_to,0)\n",
    "        else:\n",
    "            value = get_fares_from(df, sta_from, 0)[sta_to]\n",
    "            matrix.set_value(sta_from, sta_to, value)"
   ]
  },
  {
   "cell_type": "code",
   "execution_count": 190,
   "metadata": {
    "collapsed": false
   },
   "outputs": [],
   "source": [
    "matrix.to_csv('test_data/farematrix.csv')"
   ]
  },
  {
   "cell_type": "code",
   "execution_count": 125,
   "metadata": {
    "collapsed": false
   },
   "outputs": [],
   "source": [
    "# Read BART.far data into DataFrame\n",
    "df = pd.read_table('test_data/BART.far', header=None, names=['node_from', 'node_to', \n",
    "                                                  'fare', ';', 'name_from', 'name_to'])\n",
    "df = df.drop(';', axis=1)\n",
    "df.name_from = df.name_from.str.replace(\" to\", \"\")\n",
    "\n",
    "# Read new stations definition\n",
    "new_sta = pd.DataFrame.from_csv('test_data/new_station_alt4.csv')\n",
    "new_sta['Station'] = new_sta.index\n",
    "new_sta.reset_index(drop=True, inplace=True)\n",
    "\n",
    "# get unique node number and name:\n",
    "lookup = {}\n",
    "for x in list(set(list(df[['node_from','name_from']].apply(lambda x: str(x[0]) + '@' + x[1], axis=1).unique()) + list(df[['node_to','name_to']].apply(lambda x: str(x[0]) + '@' + x[1], axis=1).unique()))):\n",
    "    lookup[x.split('@')[1]] = int(x.split('@')[0])\n",
    "new_sta.apply(lambda x: AddStaToLookup(x, lookup), axis=1)\n",
    "\n",
    "matrix = pd.DataFrame.from_csv('test_data/farematrix_alt4.csv')"
   ]
  },
  {
   "cell_type": "code",
   "execution_count": 126,
   "metadata": {
    "collapsed": false
   },
   "outputs": [],
   "source": [
    "allstations_from = list(lookup.keys())\n",
    "allstations_to = list(lookup.keys())"
   ]
  },
  {
   "cell_type": "code",
   "execution_count": 127,
   "metadata": {
    "collapsed": false
   },
   "outputs": [],
   "source": [
    "output_df = pd.DataFrame(columns=['node_from','node_to','fare', 'name_from', 'name_to'])\n",
    "i=0\n",
    "for station_from in allstations_from:\n",
    "    for station_to in allstations_to:\n",
    "        output_df.loc[i] = [lookup[station_from],lookup[station_to],matrix.at[station_from, station_to],station_from,station_to]\n",
    "        i+=1"
   ]
  },
  {
   "cell_type": "code",
   "execution_count": 128,
   "metadata": {
    "collapsed": false
   },
   "outputs": [],
   "source": [
    "output_df['fare'].fillna(0, inplace=True)\n",
    "output_df['fare']=output_df['fare'].astype(int)\n",
    "output_df = output_df[output_df['fare'] > 0]"
   ]
  },
  {
   "cell_type": "code",
   "execution_count": 129,
   "metadata": {
    "collapsed": false
   },
   "outputs": [
    {
     "data": {
      "text/html": [
       "<div>\n",
       "<table border=\"1\" class=\"dataframe\">\n",
       "  <thead>\n",
       "    <tr style=\"text-align: right;\">\n",
       "      <th></th>\n",
       "      <th>node_from</th>\n",
       "      <th>node_to</th>\n",
       "      <th>fare</th>\n",
       "      <th>name_from</th>\n",
       "      <th>name_to</th>\n",
       "      <th>key</th>\n",
       "    </tr>\n",
       "  </thead>\n",
       "  <tbody>\n",
       "    <tr>\n",
       "      <th>0</th>\n",
       "      <td>15536</td>\n",
       "      <td>15539</td>\n",
       "      <td>472</td>\n",
       "      <td>Pittsburg/ Bay Point</td>\n",
       "      <td>Colma</td>\n",
       "      <td>1553615539</td>\n",
       "    </tr>\n",
       "    <tr>\n",
       "      <th>1</th>\n",
       "      <td>15536</td>\n",
       "      <td>15544</td>\n",
       "      <td>507</td>\n",
       "      <td>Pittsburg/ Bay Point</td>\n",
       "      <td>Warm Springs</td>\n",
       "      <td>1553615544</td>\n",
       "    </tr>\n",
       "    <tr>\n",
       "      <th>2</th>\n",
       "      <td>15536</td>\n",
       "      <td>15520</td>\n",
       "      <td>364</td>\n",
       "      <td>Pittsburg/ Bay Point</td>\n",
       "      <td>Richmond</td>\n",
       "      <td>1552015536</td>\n",
       "    </tr>\n",
       "    <tr>\n",
       "      <th>3</th>\n",
       "      <td>15536</td>\n",
       "      <td>15537</td>\n",
       "      <td>402</td>\n",
       "      <td>Pittsburg/ Bay Point</td>\n",
       "      <td>Castro Valley</td>\n",
       "      <td>1553615537</td>\n",
       "    </tr>\n",
       "    <tr>\n",
       "      <th>4</th>\n",
       "      <td>15536</td>\n",
       "      <td>15527</td>\n",
       "      <td>455</td>\n",
       "      <td>Pittsburg/ Bay Point</td>\n",
       "      <td>Union City</td>\n",
       "      <td>1552715536</td>\n",
       "    </tr>\n",
       "  </tbody>\n",
       "</table>\n",
       "</div>"
      ],
      "text/plain": [
       "   node_from  node_to  fare             name_from        name_to         key\n",
       "0      15536    15539   472  Pittsburg/ Bay Point          Colma  1553615539\n",
       "1      15536    15544   507  Pittsburg/ Bay Point   Warm Springs  1553615544\n",
       "2      15536    15520   364  Pittsburg/ Bay Point       Richmond  1552015536\n",
       "3      15536    15537   402  Pittsburg/ Bay Point  Castro Valley  1553615537\n",
       "4      15536    15527   455  Pittsburg/ Bay Point     Union City  1552715536"
      ]
     },
     "execution_count": 129,
     "metadata": {},
     "output_type": "execute_result"
    }
   ],
   "source": [
    "output_df['key'] = output_df[['node_from','node_to']].apply(lambda x: str(min([int(x[0]),int(x[1])]))+str(max([int(x[0]),int(x[1])])), axis=1)\n",
    "output_df.drop_duplicates('key', keep='first', inplace=True)\n",
    "output_df.reset_index(drop=True,inplace=True)\n",
    "output_df.head()"
   ]
  },
  {
   "cell_type": "code",
   "execution_count": 130,
   "metadata": {
    "collapsed": false
   },
   "outputs": [],
   "source": [
    "output_df['output']=output_df.apply(lambda x: str(int(x[0])) + \"   \" + str(int(x[1])) + \"  \" + str(int(x[2]))+ \" ; \"+ x[3] + \" to \" + x[4], axis=1)"
   ]
  },
  {
   "cell_type": "code",
   "execution_count": 131,
   "metadata": {
    "collapsed": false
   },
   "outputs": [],
   "source": [
    "output_df.to_csv('test_data/output_atl4.csv')"
   ]
  },
  {
   "cell_type": "code",
   "execution_count": null,
   "metadata": {
    "collapsed": true
   },
   "outputs": [],
   "source": []
  }
 ],
 "metadata": {
  "kernelspec": {
   "display_name": "Python 3",
   "language": "python",
   "name": "python3"
  },
  "language_info": {
   "codemirror_mode": {
    "name": "ipython",
    "version": 3
   },
   "file_extension": ".py",
   "mimetype": "text/x-python",
   "name": "python",
   "nbconvert_exporter": "python",
   "pygments_lexer": "ipython3",
   "version": "3.5.2"
  }
 },
 "nbformat": 4,
 "nbformat_minor": 0
}
