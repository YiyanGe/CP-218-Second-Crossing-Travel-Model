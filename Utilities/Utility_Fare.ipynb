{
 "cells": [
  {
   "cell_type": "code",
   "execution_count": 32,
   "metadata": {
    "collapsed": true
   },
   "outputs": [],
   "source": [
    "import pandas as pd"
   ]
  },
  {
   "cell_type": "code",
   "execution_count": 33,
   "metadata": {
    "collapsed": true
   },
   "outputs": [],
   "source": [
    "def AddStaToLookup(row,lookup):\n",
    "    name = row[1]\n",
    "    node = row[0]\n",
    "    lookup[name] = node"
   ]
  },
  {
   "cell_type": "code",
   "execution_count": 34,
   "metadata": {
    "collapsed": true
   },
   "outputs": [],
   "source": [
    "def get_fares_from(df, name, add_fare):\n",
    "    \"\"\"\n",
    "    This function gets all the fares from one station to every other in the original fare table.\n",
    "    \n",
    "    df : pandas DataFrame\n",
    "        The original fare table\n",
    "    name : str\n",
    "        The name of the station that you want to get fares from\n",
    "    add_fare : int\n",
    "        Additional fare to add to each value in the existing fare table\n",
    "        \n",
    "    Returns a pandas Series of stations and fares\n",
    "    \"\"\"\n",
    "    station = df.loc[(df.name_from == name) | (df.name_to == name)]\n",
    "    station['destination'] = ''\n",
    "    station.loc[station.name_from != name, 'destination'] = station.loc[station.name_from != name, 'name_from']\n",
    "    station.loc[station.name_to != name, 'destination'] = station.loc[station.name_to != name, 'name_to']\n",
    "    station.set_index('destination', inplace=True)\n",
    "    \n",
    "    series = pd.Series(data=(station.fare + add_fare), name=name)\n",
    "    \n",
    "    return series"
   ]
  },
  {
   "cell_type": "code",
   "execution_count": 35,
   "metadata": {
    "collapsed": true
   },
   "outputs": [],
   "source": [
    "def min_fare(series, df):\n",
    "    \"\"\"\n",
    "    Returns minimum fare to each station based on a series where index is the proxy station\n",
    "    that we calculate all fares from, and value is the additive fare (e.g. from new stop to\n",
    "    existing proxy station)\n",
    "    \n",
    "    df is original fare table\n",
    "    \"\"\"\n",
    "    ser = pd.Series()\n",
    "    for index, value in series.iteritems():\n",
    "        fares = get_fares_from(df, index, value)\n",
    "        ser = pd.concat([ser, fares], axis=1)\n",
    "\n",
    "    fare = ser.min(axis=1)\n",
    "    return fare"
   ]
  },
  {
   "cell_type": "code",
   "execution_count": 36,
   "metadata": {
    "collapsed": true
   },
   "outputs": [],
   "source": [
    "def get_all_fares(node_df, fare_df, output_df, nodelookup):\n",
    "    \"\"\"\n",
    "    Takes in DataFrame of new nodes, with new station names as index, and proxy stations as columns,\n",
    "    with additive fares to proxy stations as values in each column. Returns DataFrame in similar format to \n",
    "    original data. Need to add node IDs.\n",
    "    \"\"\"\n",
    "    \n",
    "    for index, row in node_df.iterrows():\n",
    "        results = pd.DataFrame(min_fare(row, fare_df))\n",
    "        results.reset_index(inplace=True)\n",
    "        results.columns = ['name_to', 'fare']\n",
    "        results['name_from'] = index\n",
    "        output_df = pd.concat([output_df,results], axis = 0)\n",
    "    \n",
    "    output_df['node_from'] = output_df['name_from'].apply(lambda x: lookup[x])\n",
    "    output_df['node_to'] = output_df['name_to'].apply(lambda x: lookup[x])\n",
    "        \n",
    "    return output_df"
   ]
  },
  {
   "cell_type": "code",
   "execution_count": 91,
   "metadata": {
    "collapsed": false
   },
   "outputs": [],
   "source": [
    "# Read BART.far data into DataFrame\n",
    "df = pd.read_table('test_data/BART.far', header=None, names=['node_from', 'node_to', \n",
    "                                                  'fare', ';', 'name_from', 'name_to'])\n",
    "df = df.drop(';', axis=1)\n",
    "df.name_from = df.name_from.str.replace(\" to\", \"\")"
   ]
  },
  {
   "cell_type": "code",
   "execution_count": 92,
   "metadata": {
    "collapsed": false
   },
   "outputs": [
    {
     "data": {
      "text/html": [
       "<div>\n",
       "<table border=\"1\" class=\"dataframe\">\n",
       "  <thead>\n",
       "    <tr style=\"text-align: right;\">\n",
       "      <th></th>\n",
       "      <th>Node</th>\n",
       "      <th>Station</th>\n",
       "    </tr>\n",
       "  </thead>\n",
       "  <tbody>\n",
       "    <tr>\n",
       "      <th>0</th>\n",
       "      <td>18001</td>\n",
       "      <td>15th/Franklin</td>\n",
       "    </tr>\n",
       "    <tr>\n",
       "      <th>1</th>\n",
       "      <td>18002</td>\n",
       "      <td>Jack London Square</td>\n",
       "    </tr>\n",
       "    <tr>\n",
       "      <th>2</th>\n",
       "      <td>18003</td>\n",
       "      <td>Alameda</td>\n",
       "    </tr>\n",
       "    <tr>\n",
       "      <th>3</th>\n",
       "      <td>18008</td>\n",
       "      <td>Van Ness</td>\n",
       "    </tr>\n",
       "    <tr>\n",
       "      <th>4</th>\n",
       "      <td>18009</td>\n",
       "      <td>Fillmore</td>\n",
       "    </tr>\n",
       "    <tr>\n",
       "      <th>5</th>\n",
       "      <td>18010</td>\n",
       "      <td>4th/Brannan</td>\n",
       "    </tr>\n",
       "    <tr>\n",
       "      <th>6</th>\n",
       "      <td>18011</td>\n",
       "      <td>6th/Brannan</td>\n",
       "    </tr>\n",
       "    <tr>\n",
       "      <th>7</th>\n",
       "      <td>18012</td>\n",
       "      <td>Howard</td>\n",
       "    </tr>\n",
       "    <tr>\n",
       "      <th>8</th>\n",
       "      <td>18013</td>\n",
       "      <td>Hyde</td>\n",
       "    </tr>\n",
       "  </tbody>\n",
       "</table>\n",
       "</div>"
      ],
      "text/plain": [
       "    Node             Station\n",
       "0  18001       15th/Franklin\n",
       "1  18002  Jack London Square\n",
       "2  18003             Alameda\n",
       "3  18008            Van Ness\n",
       "4  18009            Fillmore\n",
       "5  18010         4th/Brannan\n",
       "6  18011         6th/Brannan\n",
       "7  18012              Howard\n",
       "8  18013                Hyde"
      ]
     },
     "execution_count": 92,
     "metadata": {},
     "output_type": "execute_result"
    }
   ],
   "source": [
    "# Read new stations definition\n",
    "new_sta = pd.DataFrame.from_csv('test_data/new_station.csv')\n",
    "new_sta['Station'] = new_sta.index\n",
    "new_sta.reset_index(drop=True, inplace=True)\n",
    "new_sta"
   ]
  },
  {
   "cell_type": "code",
   "execution_count": 93,
   "metadata": {
    "collapsed": false
   },
   "outputs": [
    {
     "data": {
      "text/plain": [
       "0    None\n",
       "1    None\n",
       "2    None\n",
       "3    None\n",
       "4    None\n",
       "5    None\n",
       "6    None\n",
       "7    None\n",
       "8    None\n",
       "dtype: object"
      ]
     },
     "execution_count": 93,
     "metadata": {},
     "output_type": "execute_result"
    }
   ],
   "source": [
    "# get unique node number and name:\n",
    "lookup = {}\n",
    "for x in list(set(list(df[['node_from','name_from']].apply(lambda x: str(x[0]) + '@' + x[1], axis=1).unique()) + list(df[['node_to','name_to']].apply(lambda x: str(x[0]) + '@' + x[1], axis=1).unique()))):\n",
    "    lookup[x.split('@')[1]] = int(x.split('@')[0])\n",
    "new_sta.apply(lambda x: AddStaToLookup(x, lookup), axis=1)"
   ]
  },
  {
   "cell_type": "code",
   "execution_count": 94,
   "metadata": {
    "collapsed": false
   },
   "outputs": [],
   "source": [
    "# Make DataFrame of new nodes with additive fares to each proxy station. \n",
    "# We will take fares from each proxy station to each other station in the BART network,\n",
    "# Add the fare from the new station of interest (e.g. fare from Ballpark to Fruitvale)\n",
    "# And find the minimum fare to each other station in the network\n",
    "farelink = pd.DataFrame.from_csv('test_data/farelink_alt2_op.csv')"
   ]
  },
  {
   "cell_type": "code",
   "execution_count": 95,
   "metadata": {
    "collapsed": false
   },
   "outputs": [
    {
     "data": {
      "text/html": [
       "<div>\n",
       "<table border=\"1\" class=\"dataframe\">\n",
       "  <thead>\n",
       "    <tr style=\"text-align: right;\">\n",
       "      <th></th>\n",
       "      <th>MacArthur</th>\n",
       "      <th>Fruitvale</th>\n",
       "    </tr>\n",
       "    <tr>\n",
       "      <th>Station</th>\n",
       "      <th></th>\n",
       "      <th></th>\n",
       "    </tr>\n",
       "  </thead>\n",
       "  <tbody>\n",
       "    <tr>\n",
       "      <th>15th/Franklin</th>\n",
       "      <td>129</td>\n",
       "      <td>258</td>\n",
       "    </tr>\n",
       "    <tr>\n",
       "      <th>Jack London Square</th>\n",
       "      <td>258</td>\n",
       "      <td>129</td>\n",
       "    </tr>\n",
       "    <tr>\n",
       "      <th>Alameda</th>\n",
       "      <td>387</td>\n",
       "      <td>258</td>\n",
       "    </tr>\n",
       "    <tr>\n",
       "      <th>4th/Brannan</th>\n",
       "      <td>604</td>\n",
       "      <td>475</td>\n",
       "    </tr>\n",
       "    <tr>\n",
       "      <th>6th/Brannan</th>\n",
       "      <td>604</td>\n",
       "      <td>475</td>\n",
       "    </tr>\n",
       "    <tr>\n",
       "      <th>Howard</th>\n",
       "      <td>604</td>\n",
       "      <td>475</td>\n",
       "    </tr>\n",
       "    <tr>\n",
       "      <th>Hyde</th>\n",
       "      <td>604</td>\n",
       "      <td>475</td>\n",
       "    </tr>\n",
       "    <tr>\n",
       "      <th>Van Ness</th>\n",
       "      <td>604</td>\n",
       "      <td>475</td>\n",
       "    </tr>\n",
       "    <tr>\n",
       "      <th>Fillmore</th>\n",
       "      <td>604</td>\n",
       "      <td>475</td>\n",
       "    </tr>\n",
       "  </tbody>\n",
       "</table>\n",
       "</div>"
      ],
      "text/plain": [
       "                    MacArthur  Fruitvale\n",
       "Station                                 \n",
       "15th/Franklin             129        258\n",
       "Jack London Square        258        129\n",
       "Alameda                   387        258\n",
       "4th/Brannan               604        475\n",
       "6th/Brannan               604        475\n",
       "Howard                    604        475\n",
       "Hyde                      604        475\n",
       "Van Ness                  604        475\n",
       "Fillmore                  604        475"
      ]
     },
     "execution_count": 95,
     "metadata": {},
     "output_type": "execute_result"
    }
   ],
   "source": [
    "farelink"
   ]
  },
  {
   "cell_type": "code",
   "execution_count": 96,
   "metadata": {
    "collapsed": false
   },
   "outputs": [
    {
     "name": "stderr",
     "output_type": "stream",
     "text": [
      "/Users/yiyange/anaconda/lib/python3.5/site-packages/ipykernel/__main__.py:15: SettingWithCopyWarning: \n",
      "A value is trying to be set on a copy of a slice from a DataFrame.\n",
      "Try using .loc[row_indexer,col_indexer] = value instead\n",
      "\n",
      "See the caveats in the documentation: http://pandas.pydata.org/pandas-docs/stable/indexing.html#indexing-view-versus-copy\n",
      "/Users/yiyange/anaconda/lib/python3.5/site-packages/pandas/core/indexing.py:426: SettingWithCopyWarning: \n",
      "A value is trying to be set on a copy of a slice from a DataFrame.\n",
      "Try using .loc[row_indexer,col_indexer] = value instead\n",
      "\n",
      "See the caveats in the documentation: http://pandas.pydata.org/pandas-docs/stable/indexing.html#indexing-view-versus-copy\n",
      "  self.obj[item] = s\n"
     ]
    }
   ],
   "source": [
    "output_df = pd.DataFrame(columns=['node_from','node_to','fare', 'name_from', 'name_to'])\n",
    "output_df = get_all_fares(farelink, df, output_df, lookup)"
   ]
  },
  {
   "cell_type": "code",
   "execution_count": 97,
   "metadata": {
    "collapsed": false
   },
   "outputs": [
    {
     "data": {
      "text/plain": [
       "1855"
      ]
     },
     "execution_count": 97,
     "metadata": {},
     "output_type": "execute_result"
    }
   ],
   "source": [
    "result = df.append(output_df)\n",
    "result['key'] = result[['node_from','node_to']].apply(lambda x: str(min([x[0],x[1]]))+str(max([x[0],x[1]])), axis=1)\n",
    "len(result)"
   ]
  },
  {
   "cell_type": "code",
   "execution_count": 98,
   "metadata": {
    "collapsed": false
   },
   "outputs": [
    {
     "data": {
      "text/html": [
       "<div>\n",
       "<table border=\"1\" class=\"dataframe\">\n",
       "  <thead>\n",
       "    <tr style=\"text-align: right;\">\n",
       "      <th></th>\n",
       "      <th>fare</th>\n",
       "      <th>name_from</th>\n",
       "      <th>name_to</th>\n",
       "      <th>node_from</th>\n",
       "      <th>node_to</th>\n",
       "      <th>key</th>\n",
       "    </tr>\n",
       "  </thead>\n",
       "  <tbody>\n",
       "    <tr>\n",
       "      <th>0</th>\n",
       "      <td>129</td>\n",
       "      <td>Dublin/ Pleasanton</td>\n",
       "      <td>West Dublin/Pleasanton</td>\n",
       "      <td>15538</td>\n",
       "      <td>15545</td>\n",
       "      <td>1553815545</td>\n",
       "    </tr>\n",
       "    <tr>\n",
       "      <th>1</th>\n",
       "      <td>129</td>\n",
       "      <td>Dublin/ Pleasanton</td>\n",
       "      <td>Castro Valley</td>\n",
       "      <td>15538</td>\n",
       "      <td>15537</td>\n",
       "      <td>1553715538</td>\n",
       "    </tr>\n",
       "    <tr>\n",
       "      <th>2</th>\n",
       "      <td>325</td>\n",
       "      <td>Dublin/ Pleasanton</td>\n",
       "      <td>Fremont</td>\n",
       "      <td>15538</td>\n",
       "      <td>15526</td>\n",
       "      <td>1552615538</td>\n",
       "    </tr>\n",
       "    <tr>\n",
       "      <th>3</th>\n",
       "      <td>304</td>\n",
       "      <td>Dublin/ Pleasanton</td>\n",
       "      <td>Union City</td>\n",
       "      <td>15538</td>\n",
       "      <td>15527</td>\n",
       "      <td>1552715538</td>\n",
       "    </tr>\n",
       "    <tr>\n",
       "      <th>4</th>\n",
       "      <td>269</td>\n",
       "      <td>Dublin/ Pleasanton</td>\n",
       "      <td>South Hayward</td>\n",
       "      <td>15538</td>\n",
       "      <td>15528</td>\n",
       "      <td>1552815538</td>\n",
       "    </tr>\n",
       "  </tbody>\n",
       "</table>\n",
       "</div>"
      ],
      "text/plain": [
       "   fare           name_from                 name_to  node_from  node_to  \\\n",
       "0   129  Dublin/ Pleasanton  West Dublin/Pleasanton      15538    15545   \n",
       "1   129  Dublin/ Pleasanton           Castro Valley      15538    15537   \n",
       "2   325  Dublin/ Pleasanton                 Fremont      15538    15526   \n",
       "3   304  Dublin/ Pleasanton              Union City      15538    15527   \n",
       "4   269  Dublin/ Pleasanton           South Hayward      15538    15528   \n",
       "\n",
       "          key  \n",
       "0  1553815545  \n",
       "1  1553715538  \n",
       "2  1552615538  \n",
       "3  1552715538  \n",
       "4  1552815538  "
      ]
     },
     "execution_count": 98,
     "metadata": {},
     "output_type": "execute_result"
    }
   ],
   "source": [
    "result.drop_duplicates('key', keep='first', inplace=True)\n",
    "result.reset_index(drop=True,inplace=True)\n",
    "result.head()"
   ]
  },
  {
   "cell_type": "code",
   "execution_count": 86,
   "metadata": {
    "collapsed": false
   },
   "outputs": [
    {
     "data": {
      "text/plain": [
       "1854"
      ]
     },
     "execution_count": 86,
     "metadata": {},
     "output_type": "execute_result"
    }
   ],
   "source": [
    "result.index.max()"
   ]
  },
  {
   "cell_type": "code",
   "execution_count": 87,
   "metadata": {
    "collapsed": true
   },
   "outputs": [],
   "source": [
    "# need to manually add fare links between new stations"
   ]
  },
  {
   "cell_type": "code",
   "execution_count": 99,
   "metadata": {
    "collapsed": true
   },
   "outputs": [],
   "source": [
    "i = result.index.max() + 1\n",
    "allsta = list(new_sta.Station.unique())\n",
    "for station in allsta:\n",
    "    othersta = [x for x in allsta if x!=station]\n",
    "    for item in othersta:\n",
    "        result.loc[i] = [0, station, item, lookup[station], lookup[item], str(min([lookup[station], lookup[item]]))+str(max([lookup[station], lookup[item]]))]\n",
    "        i +=1"
   ]
  },
  {
   "cell_type": "code",
   "execution_count": 100,
   "metadata": {
    "collapsed": false
   },
   "outputs": [
    {
     "data": {
      "text/html": [
       "<div>\n",
       "<table border=\"1\" class=\"dataframe\">\n",
       "  <thead>\n",
       "    <tr style=\"text-align: right;\">\n",
       "      <th></th>\n",
       "      <th>fare</th>\n",
       "      <th>name_from</th>\n",
       "      <th>name_to</th>\n",
       "      <th>node_from</th>\n",
       "      <th>node_to</th>\n",
       "      <th>key</th>\n",
       "    </tr>\n",
       "  </thead>\n",
       "  <tbody>\n",
       "    <tr>\n",
       "      <th>0</th>\n",
       "      <td>129</td>\n",
       "      <td>Dublin/ Pleasanton</td>\n",
       "      <td>West Dublin/Pleasanton</td>\n",
       "      <td>15538</td>\n",
       "      <td>15545</td>\n",
       "      <td>1553815545</td>\n",
       "    </tr>\n",
       "    <tr>\n",
       "      <th>1</th>\n",
       "      <td>129</td>\n",
       "      <td>Dublin/ Pleasanton</td>\n",
       "      <td>Castro Valley</td>\n",
       "      <td>15538</td>\n",
       "      <td>15537</td>\n",
       "      <td>1553715538</td>\n",
       "    </tr>\n",
       "    <tr>\n",
       "      <th>2</th>\n",
       "      <td>325</td>\n",
       "      <td>Dublin/ Pleasanton</td>\n",
       "      <td>Fremont</td>\n",
       "      <td>15538</td>\n",
       "      <td>15526</td>\n",
       "      <td>1552615538</td>\n",
       "    </tr>\n",
       "    <tr>\n",
       "      <th>3</th>\n",
       "      <td>304</td>\n",
       "      <td>Dublin/ Pleasanton</td>\n",
       "      <td>Union City</td>\n",
       "      <td>15538</td>\n",
       "      <td>15527</td>\n",
       "      <td>1552715538</td>\n",
       "    </tr>\n",
       "    <tr>\n",
       "      <th>4</th>\n",
       "      <td>269</td>\n",
       "      <td>Dublin/ Pleasanton</td>\n",
       "      <td>South Hayward</td>\n",
       "      <td>15538</td>\n",
       "      <td>15528</td>\n",
       "      <td>1552815538</td>\n",
       "    </tr>\n",
       "  </tbody>\n",
       "</table>\n",
       "</div>"
      ],
      "text/plain": [
       "   fare           name_from                 name_to  node_from  node_to  \\\n",
       "0   129  Dublin/ Pleasanton  West Dublin/Pleasanton      15538    15545   \n",
       "1   129  Dublin/ Pleasanton           Castro Valley      15538    15537   \n",
       "2   325  Dublin/ Pleasanton                 Fremont      15538    15526   \n",
       "3   304  Dublin/ Pleasanton              Union City      15538    15527   \n",
       "4   269  Dublin/ Pleasanton           South Hayward      15538    15528   \n",
       "\n",
       "          key  \n",
       "0  1553815545  \n",
       "1  1553715538  \n",
       "2  1552615538  \n",
       "3  1552715538  \n",
       "4  1552815538  "
      ]
     },
     "execution_count": 100,
     "metadata": {},
     "output_type": "execute_result"
    }
   ],
   "source": [
    "result.drop_duplicates('key', keep='first', inplace=True)\n",
    "result.reset_index(drop=True,inplace=True)\n",
    "result.head()"
   ]
  },
  {
   "cell_type": "code",
   "execution_count": 101,
   "metadata": {
    "collapsed": false
   },
   "outputs": [],
   "source": [
    "result.to_csv('test_data/bartfare.csv')"
   ]
  },
  {
   "cell_type": "code",
   "execution_count": 51,
   "metadata": {
    "collapsed": false
   },
   "outputs": [
    {
     "data": {
      "text/html": [
       "<div>\n",
       "<table border=\"1\" class=\"dataframe\">\n",
       "  <thead>\n",
       "    <tr style=\"text-align: right;\">\n",
       "      <th></th>\n",
       "      <th>fare</th>\n",
       "      <th>name_from</th>\n",
       "      <th>name_to</th>\n",
       "      <th>node_from</th>\n",
       "      <th>node_to</th>\n",
       "      <th>key</th>\n",
       "    </tr>\n",
       "  </thead>\n",
       "  <tbody>\n",
       "    <tr>\n",
       "      <th>2011</th>\n",
       "      <td>0</td>\n",
       "      <td>14th Street</td>\n",
       "      <td>Eastlake</td>\n",
       "      <td>18014</td>\n",
       "      <td>18016</td>\n",
       "      <td>1801418016</td>\n",
       "    </tr>\n",
       "    <tr>\n",
       "      <th>2012</th>\n",
       "      <td>0</td>\n",
       "      <td>14th Street</td>\n",
       "      <td>Howard Terminal</td>\n",
       "      <td>18014</td>\n",
       "      <td>18017</td>\n",
       "      <td>1801418017</td>\n",
       "    </tr>\n",
       "    <tr>\n",
       "      <th>2013</th>\n",
       "      <td>0</td>\n",
       "      <td>11th Street</td>\n",
       "      <td>Eastlake</td>\n",
       "      <td>18015</td>\n",
       "      <td>18016</td>\n",
       "      <td>1801518016</td>\n",
       "    </tr>\n",
       "    <tr>\n",
       "      <th>2014</th>\n",
       "      <td>0</td>\n",
       "      <td>11th Street</td>\n",
       "      <td>Howard Terminal</td>\n",
       "      <td>18015</td>\n",
       "      <td>18017</td>\n",
       "      <td>1801518017</td>\n",
       "    </tr>\n",
       "    <tr>\n",
       "      <th>2015</th>\n",
       "      <td>0</td>\n",
       "      <td>Eastlake</td>\n",
       "      <td>Howard Terminal</td>\n",
       "      <td>18016</td>\n",
       "      <td>18017</td>\n",
       "      <td>1801618017</td>\n",
       "    </tr>\n",
       "  </tbody>\n",
       "</table>\n",
       "</div>"
      ],
      "text/plain": [
       "      fare    name_from          name_to  node_from  node_to         key\n",
       "2011     0  14th Street         Eastlake      18014    18016  1801418016\n",
       "2012     0  14th Street  Howard Terminal      18014    18017  1801418017\n",
       "2013     0  11th Street         Eastlake      18015    18016  1801518016\n",
       "2014     0  11th Street  Howard Terminal      18015    18017  1801518017\n",
       "2015     0     Eastlake  Howard Terminal      18016    18017  1801618017"
      ]
     },
     "execution_count": 51,
     "metadata": {},
     "output_type": "execute_result"
    }
   ],
   "source": [
    "result.tail()"
   ]
  },
  {
   "cell_type": "code",
   "execution_count": null,
   "metadata": {
    "collapsed": true
   },
   "outputs": [],
   "source": []
  }
 ],
 "metadata": {
  "kernelspec": {
   "display_name": "Python 3",
   "language": "python",
   "name": "python3"
  },
  "language_info": {
   "codemirror_mode": {
    "name": "ipython",
    "version": 3
   },
   "file_extension": ".py",
   "mimetype": "text/x-python",
   "name": "python",
   "nbconvert_exporter": "python",
   "pygments_lexer": "ipython3",
   "version": "3.5.2"
  }
 },
 "nbformat": 4,
 "nbformat_minor": 0
}
