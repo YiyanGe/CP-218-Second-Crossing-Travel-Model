{
 "cells": [
  {
   "cell_type": "code",
   "execution_count": 48,
   "metadata": {
    "collapsed": true
   },
   "outputs": [],
   "source": [
    "import pandas as pd"
   ]
  },
  {
   "cell_type": "code",
   "execution_count": 49,
   "metadata": {
    "collapsed": true
   },
   "outputs": [],
   "source": [
    "def AddStaToLookup(row,lookup):\n",
    "    name = row[1]\n",
    "    node = row[0]\n",
    "    lookup[name] = node"
   ]
  },
  {
   "cell_type": "code",
   "execution_count": 50,
   "metadata": {
    "collapsed": true
   },
   "outputs": [],
   "source": [
    "def get_fares_from(df, name, add_fare):\n",
    "    \"\"\"\n",
    "    This function gets all the fares from one station to every other in the original fare table.\n",
    "    \n",
    "    df : pandas DataFrame\n",
    "        The original fare table\n",
    "    name : str\n",
    "        The name of the station that you want to get fares from\n",
    "    add_fare : int\n",
    "        Additional fare to add to each value in the existing fare table\n",
    "        \n",
    "    Returns a pandas Series of stations and fares\n",
    "    \"\"\"\n",
    "    station = df.loc[(df.name_from == name) | (df.name_to == name)]\n",
    "    station['destination'] = ''\n",
    "    station.loc[station.name_from != name, 'destination'] = station.loc[station.name_from != name, 'name_from']\n",
    "    station.loc[station.name_to != name, 'destination'] = station.loc[station.name_to != name, 'name_to']\n",
    "    station.set_index('destination', inplace=True)\n",
    "    \n",
    "    series = pd.Series(data=(station.fare + add_fare), name=name)\n",
    "    \n",
    "    return series"
   ]
  },
  {
   "cell_type": "code",
   "execution_count": 51,
   "metadata": {
    "collapsed": true
   },
   "outputs": [],
   "source": [
    "def min_fare(series, df):\n",
    "    \"\"\"\n",
    "    Returns minimum fare to each station based on a series where index is the proxy station\n",
    "    that we calculate all fares from, and value is the additive fare (e.g. from new stop to\n",
    "    existing proxy station)\n",
    "    \n",
    "    df is original fare table\n",
    "    \"\"\"\n",
    "    ser = pd.Series()\n",
    "    for index, value in series.iteritems():\n",
    "        fares = get_fares_from(df, index, value)\n",
    "        ser = pd.concat([ser, fares], axis=1)\n",
    "\n",
    "    fare = ser.min(axis=1)\n",
    "    return fare"
   ]
  },
  {
   "cell_type": "code",
   "execution_count": 52,
   "metadata": {
    "collapsed": true
   },
   "outputs": [],
   "source": [
    "def get_all_fares(node_df, fare_df, output_df, nodelookup):\n",
    "    \"\"\"\n",
    "    Takes in DataFrame of new nodes, with new station names as index, and proxy stations as columns,\n",
    "    with additive fares to proxy stations as values in each column. Returns DataFrame in similar format to \n",
    "    original data. Need to add node IDs.\n",
    "    \"\"\"\n",
    "    \n",
    "    for index, row in node_df.iterrows():\n",
    "        results = pd.DataFrame(min_fare(row, fare_df))\n",
    "        results.reset_index(inplace=True)\n",
    "        results.columns = ['name_to', 'fare']\n",
    "        results['name_from'] = index\n",
    "        output_df = pd.concat([output_df,results], axis = 0)\n",
    "    \n",
    "    output_df['node_from'] = output_df['name_from'].apply(lambda x: lookup[x])\n",
    "    output_df['node_to'] = output_df['name_to'].apply(lambda x: lookup[x])\n",
    "        \n",
    "    return output_df"
   ]
  },
  {
   "cell_type": "code",
   "execution_count": 53,
   "metadata": {
    "collapsed": false
   },
   "outputs": [],
   "source": [
    "# Read BART.far data into DataFrame\n",
    "df = pd.read_table('test_data/BART.far', header=None, names=['node_from', 'node_to', \n",
    "                                                  'fare', ';', 'name_from', 'name_to'])\n",
    "df = df.drop(';', axis=1)\n",
    "df.name_from = df.name_from.str.replace(\" to\", \"\")"
   ]
  },
  {
   "cell_type": "code",
   "execution_count": 54,
   "metadata": {
    "collapsed": false
   },
   "outputs": [
    {
     "data": {
      "text/html": [
       "<div>\n",
       "<table border=\"1\" class=\"dataframe\">\n",
       "  <thead>\n",
       "    <tr style=\"text-align: right;\">\n",
       "      <th></th>\n",
       "      <th>Node</th>\n",
       "      <th>Station</th>\n",
       "    </tr>\n",
       "  </thead>\n",
       "  <tbody>\n",
       "    <tr>\n",
       "      <th>0</th>\n",
       "      <td>18001</td>\n",
       "      <td>Ballpark</td>\n",
       "    </tr>\n",
       "    <tr>\n",
       "      <th>1</th>\n",
       "      <td>18002</td>\n",
       "      <td>2nd/Mission</td>\n",
       "    </tr>\n",
       "    <tr>\n",
       "      <th>2</th>\n",
       "      <td>18003</td>\n",
       "      <td>Union Square</td>\n",
       "    </tr>\n",
       "    <tr>\n",
       "      <th>3</th>\n",
       "      <td>18004</td>\n",
       "      <td>Van ness</td>\n",
       "    </tr>\n",
       "    <tr>\n",
       "      <th>4</th>\n",
       "      <td>18005</td>\n",
       "      <td>Fillmore</td>\n",
       "    </tr>\n",
       "    <tr>\n",
       "      <th>5</th>\n",
       "      <td>18006</td>\n",
       "      <td>Jack London Square</td>\n",
       "    </tr>\n",
       "  </tbody>\n",
       "</table>\n",
       "</div>"
      ],
      "text/plain": [
       "    Node             Station\n",
       "0  18001            Ballpark\n",
       "1  18002         2nd/Mission\n",
       "2  18003        Union Square\n",
       "3  18004            Van ness\n",
       "4  18005            Fillmore\n",
       "5  18006  Jack London Square"
      ]
     },
     "execution_count": 54,
     "metadata": {},
     "output_type": "execute_result"
    }
   ],
   "source": [
    "# Read new stations definition\n",
    "new_sta = pd.DataFrame.from_csv('test_data/new_station.csv')\n",
    "new_sta['Station'] = new_sta.index\n",
    "new_sta.reset_index(drop=True, inplace=True)\n",
    "new_sta"
   ]
  },
  {
   "cell_type": "code",
   "execution_count": 55,
   "metadata": {
    "collapsed": false
   },
   "outputs": [
    {
     "data": {
      "text/plain": [
       "0    None\n",
       "1    None\n",
       "2    None\n",
       "3    None\n",
       "4    None\n",
       "5    None\n",
       "dtype: object"
      ]
     },
     "execution_count": 55,
     "metadata": {},
     "output_type": "execute_result"
    }
   ],
   "source": [
    "# get unique node number and name:\n",
    "lookup = {}\n",
    "for x in list(set(list(df[['node_from','name_from']].apply(lambda x: str(x[0]) + '@' + x[1], axis=1).unique()) + list(df[['node_to','name_to']].apply(lambda x: str(x[0]) + '@' + x[1], axis=1).unique()))):\n",
    "    lookup[x.split('@')[1]] = int(x.split('@')[0])\n",
    "new_sta.apply(lambda x: AddStaToLookup(x, lookup), axis=1)"
   ]
  },
  {
   "cell_type": "code",
   "execution_count": 56,
   "metadata": {
    "collapsed": false
   },
   "outputs": [],
   "source": [
    "# Make DataFrame of new nodes with additive fares to each proxy station. \n",
    "# We will take fares from each proxy station to each other station in the BART network,\n",
    "# Add the fare from the new station of interest (e.g. fare from Ballpark to Fruitvale)\n",
    "# And find the minimum fare to each other station in the network\n",
    "farelink = pd.DataFrame.from_csv('test_data/farelink.csv')"
   ]
  },
  {
   "cell_type": "code",
   "execution_count": 57,
   "metadata": {
    "collapsed": false
   },
   "outputs": [
    {
     "name": "stderr",
     "output_type": "stream",
     "text": [
      "/Users/yiyange/anaconda/lib/python3.5/site-packages/ipykernel/__main__.py:15: SettingWithCopyWarning: \n",
      "A value is trying to be set on a copy of a slice from a DataFrame.\n",
      "Try using .loc[row_indexer,col_indexer] = value instead\n",
      "\n",
      "See the caveats in the documentation: http://pandas.pydata.org/pandas-docs/stable/indexing.html#indexing-view-versus-copy\n",
      "/Users/yiyange/anaconda/lib/python3.5/site-packages/pandas/core/indexing.py:426: SettingWithCopyWarning: \n",
      "A value is trying to be set on a copy of a slice from a DataFrame.\n",
      "Try using .loc[row_indexer,col_indexer] = value instead\n",
      "\n",
      "See the caveats in the documentation: http://pandas.pydata.org/pandas-docs/stable/indexing.html#indexing-view-versus-copy\n",
      "  self.obj[item] = s\n"
     ]
    }
   ],
   "source": [
    "output_df = pd.DataFrame(columns=['node_from','node_to','fare', 'name_from', 'name_to'])\n",
    "output_df = get_all_fares(farelink, df, output_df, lookup)"
   ]
  },
  {
   "cell_type": "code",
   "execution_count": 61,
   "metadata": {
    "collapsed": false
   },
   "outputs": [
    {
     "data": {
      "text/plain": [
       "1696"
      ]
     },
     "execution_count": 61,
     "metadata": {},
     "output_type": "execute_result"
    }
   ],
   "source": [
    "result = df.append(output_df)\n",
    "result['key'] = result[['node_from','node_to']].apply(lambda x: str(set([x[0],x[1]])), axis=1)\n",
    "len(result)"
   ]
  },
  {
   "cell_type": "code",
   "execution_count": 64,
   "metadata": {
    "collapsed": false
   },
   "outputs": [],
   "source": [
    "result.drop_duplicates('key', keep='first', inplace=True)"
   ]
  }
 ],
 "metadata": {
  "kernelspec": {
   "display_name": "Python 3",
   "language": "python",
   "name": "python3"
  },
  "language_info": {
   "codemirror_mode": {
    "name": "ipython",
    "version": 3
   },
   "file_extension": ".py",
   "mimetype": "text/x-python",
   "name": "python",
   "nbconvert_exporter": "python",
   "pygments_lexer": "ipython3",
   "version": "3.5.2"
  }
 },
 "nbformat": 4,
 "nbformat_minor": 0
}
