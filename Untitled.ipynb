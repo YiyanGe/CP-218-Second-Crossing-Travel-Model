{
 "cells": [
  {
   "cell_type": "code",
   "execution_count": 8,
   "metadata": {
    "collapsed": false
   },
   "outputs": [],
   "source": [
    "import pandas as pd, json, requests, time\n",
    "import urllib\n",
    "import json\n",
    "import numpy as np\n",
    "import codecs\n",
    "import polyline\n",
    "from pykml import parser\n",
    "import pygeoj\n",
    "from datetime import date\n",
    "from datetime import datetime\n",
    "from datetime import timedelta\n",
    "from pytz import timezone\n",
    "import pytz\n",
    "from dateutil.parser import parse\n",
    "from polyline.codec import PolylineCodec\n",
    "import re\n",
    "from dbfread import DBF"
   ]
  },
  {
   "cell_type": "code",
   "execution_count": 10,
   "metadata": {
    "collapsed": false
   },
   "outputs": [],
   "source": [
    "#df =  pd.DataFrame.from_csv('2035_06_646/extractor/trn/trnlinkpm_wlk_hvy_wlk.dbf')\n",
    "table = DBF('../2035_06_646/extractor/trn/trnlinkpm_wlk_hvy_wlk.dbf', load=True)"
   ]
  },
  {
   "cell_type": "code",
   "execution_count": 12,
   "metadata": {
    "collapsed": false
   },
   "outputs": [
    {
     "data": {
      "text/plain": [
       "OrderedDict([('A', 1),\n",
       "             ('B', 7585),\n",
       "             ('TIME', 1140),\n",
       "             ('MODE', 1),\n",
       "             ('FREQ', 0.0),\n",
       "             ('PLOT', 0),\n",
       "             ('COLOR', 1),\n",
       "             ('STOP_A', 0),\n",
       "             ('STOP_B', 0),\n",
       "             ('DIST', 57),\n",
       "             ('NAME', '*1'),\n",
       "             ('SEQ', 0),\n",
       "             ('OWNER', ''),\n",
       "             ('AB_VOL', 0),\n",
       "             ('AB_BRDA', 0),\n",
       "             ('AB_XITA', 0),\n",
       "             ('AB_BRDB', 0),\n",
       "             ('AB_XITB', 0),\n",
       "             ('BA_VOL', 0),\n",
       "             ('BA_BRDA', 0),\n",
       "             ('BA_XITA', 0),\n",
       "             ('BA_BRDB', 0),\n",
       "             ('BA_XITB', 0)])"
      ]
     },
     "execution_count": 12,
     "metadata": {},
     "output_type": "execute_result"
    }
   ],
   "source": [
    "table.records[23]"
   ]
  },
  {
   "cell_type": "code",
   "execution_count": null,
   "metadata": {
    "collapsed": true
   },
   "outputs": [],
   "source": []
  }
 ],
 "metadata": {
  "kernelspec": {
   "display_name": "Python 3",
   "language": "python",
   "name": "python3"
  },
  "language_info": {
   "codemirror_mode": {
    "name": "ipython",
    "version": 3
   },
   "file_extension": ".py",
   "mimetype": "text/x-python",
   "name": "python",
   "nbconvert_exporter": "python",
   "pygments_lexer": "ipython3",
   "version": "3.5.2"
  }
 },
 "nbformat": 4,
 "nbformat_minor": 0
}
